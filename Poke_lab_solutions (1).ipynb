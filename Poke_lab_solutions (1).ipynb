{
 "cells": [
  {
   "cell_type": "markdown",
   "metadata": {},
   "source": [
    "## Lab- Data Structures and Python with Pokemon\n",
    "Building \"Pokemon Stay\"\n",
    "You are an analyst at a \"scrappy\" online gaming company that specializes in remakes of last year's fads.\n",
    "\n",
    "Your boss, who runs the product development team, is convinced that Pokemon Go's fatal flaw was that you had to actually move around outside. She has design mock-ups for a new game called Pokemon Stay: in this version players still need to move, but just from website to website. Pokemon gyms are now popular online destinations, and catching Pokemon in the \"wild\" simply requires browsing the internet for hours in the comfort of your home.\n",
    "\n",
    "She wants you to program a prototype version of the game, and analyze the planned content to help the team calibrate the design."
   ]
  },
  {
   "cell_type": "code",
   "execution_count": 1,
   "metadata": {
    "collapsed": true
   },
   "outputs": [],
   "source": [
    "from IPython.display import display"
   ]
  },
  {
   "cell_type": "markdown",
   "metadata": {},
   "source": [
    "## 1. Defining a player\n",
    "\n",
    "Each player needs to have a set of charactaristics, stored in variables, such as an id, a username, play data, etc. A great structure to house these variables is a dictionary, because the values can contain any python datatype includeing list, dict, tuple, int,  float, bool, or str.\n",
    "\n",
    "The player variables are:\n",
    "\n",
    "player_id : id code unique to each player (integer)\n",
    "player_name : entered name of the player (string)\n",
    "time_played : number of time played the game in minutes (float)\n",
    "player_pokemon: the player's captured pokemon (dictionary)\n",
    "gyms_visited: ids of the gyms that a player has visited (list)\n",
    "\n",
    "## A) Create a dict for a single player.\n",
    "The player_id should be 1\n",
    "Since the player doesn't have a name yet, you may set the player_name equal to None\n",
    "The rest of the fields should be populated properly depending on the datatype."
   ]
  },
  {
   "cell_type": "code",
   "execution_count": 2,
   "metadata": {
    "collapsed": true
   },
   "outputs": [],
   "source": [
    "\n",
    "# dictionary for a single player\n",
    "player_1 = {\n",
    "    'player_id' : 1,\n",
    "    'player_name' : None,\n",
    "    'time_played' : 0.0,\n",
    "    'player_pokemon': {},\n",
    "    'gyms_visited': [],\n",
    "}"
   ]
  },
  {
   "cell_type": "markdown",
   "metadata": {},
   "source": [
    "## B) Create a dict to house your dataset of players.\n",
    "\n",
    "Because only player_1 exists, there should only be one key:value pair.\n",
    "\n",
    "The keys of this dict should be the player_id, and the values should be the dictionaries with \n",
    "    single-player info, including the player_id (slightly redundant).\n",
    "Use the display function imported above to display poke_players."
   ]
  },
  {
   "cell_type": "code",
   "execution_count": 3,
   "metadata": {},
   "outputs": [
    {
     "data": {
      "text/plain": [
       "{1: {'gyms_visited': [],\n",
       "  'player_id': 1,\n",
       "  'player_name': None,\n",
       "  'player_pokemon': {},\n",
       "  'time_played': 0.0}}"
      ]
     },
     "metadata": {},
     "output_type": "display_data"
    }
   ],
   "source": [
    "\n",
    "# putting an already made player into the poke players dict# putti \n",
    "# this creates a dictionary(player_1) nested in another dictionary (poke_players)\n",
    "# we utilized a value in the player_1 dictionary to create its own key for the poke_players dict\n",
    "poke_players = {\n",
    "    player_1['player_id']:player_1\n",
    "}\n",
    "\n",
    "display(poke_players)"
   ]
  },
  {
   "cell_type": "markdown",
   "metadata": {},
   "source": [
    "## C) Update player 1's info with your own.\n",
    "\n",
    "By indexing your poke_players dictionary, update the player_name field to your own name.\n",
    "display your poke_players dict to check your work."
   ]
  },
  {
   "cell_type": "code",
   "execution_count": 4,
   "metadata": {},
   "outputs": [
    {
     "data": {
      "text/plain": [
       "{1: {'gyms_visited': [],\n",
       "  'player_id': 1,\n",
       "  'player_name': 'Mike',\n",
       "  'player_pokemon': {},\n",
       "  'time_played': 0.0}}"
      ]
     },
     "execution_count": 4,
     "metadata": {},
     "output_type": "execute_result"
    }
   ],
   "source": [
    "# accessing a nested dictionary requires us to go layer by layer\n",
    "# `poke_players[1] == player_1`\n",
    "# `player_1['player_name] = 'Mike`\n",
    "# if `poke_players[1]` IS `player_1` we can substitute to get `poke_players[1]['player_name'] = 'Mike'`\n",
    "\n",
    "poke_players[1]['player_name'] = 'Mike'\n",
    "poke_players"
   ]
  },
  {
   "cell_type": "markdown",
   "metadata": {},
   "source": [
    "## D) Define a function that adds a player to poke_players.\n",
    "Your functions should...\n",
    "\n",
    "Take arguments for players_dict, player_id, and player_name.\n",
    "Create a player with the above values and populate the gyms_visited, player_pokemon, and time_played accordingly.\n",
    "Returns the name of the player added.\n",
    "Add a second player to the players dictionary. The id should be 2, but the name is up to you!\n",
    "Display your poke_players to check your work."
   ]
  },
  {
   "cell_type": "code",
   "execution_count": 5,
   "metadata": {
    "collapsed": true
   },
   "outputs": [],
   "source": [
    "# function takes 3 arguments: the players_dict where the new player will be added\n",
    "# `player_id` and `player_name` are used create the new_player\n",
    "def add_player(players_dict, player_id, player_name):\n",
    "    new_player = {\n",
    "        'player_id': player_id,\n",
    "        'player_name': player_name,\n",
    "        'player_pokemon': {}, # player_pokemon, gyms_visited and time_played have default values\n",
    "        'gyms_visited': [],\n",
    "        'time_played': 0.0\n",
    "    }\n",
    "    players_dict[new_player['player_id']] = new_player # once again using a value in the existing dict to create said \n",
    "                                            # dicts key in the players_dict\n",
    "    print(\"{} added!\".format(new_player['player_name']))"
   ]
  },
  {
   "cell_type": "code",
   "execution_count": 6,
   "metadata": {},
   "outputs": [
    {
     "name": "stdout",
     "output_type": "stream",
     "text": [
      "Joshua added!\n"
     ]
    }
   ],
   "source": [
    "add_player(poke_players, 2, 'Joshua')"
   ]
  },
  {
   "cell_type": "code",
   "execution_count": 7,
   "metadata": {},
   "outputs": [
    {
     "data": {
      "text/plain": [
       "{1: {'gyms_visited': [],\n",
       "  'player_id': 1,\n",
       "  'player_name': 'Mike',\n",
       "  'player_pokemon': {},\n",
       "  'time_played': 0.0},\n",
       " 2: {'gyms_visited': [],\n",
       "  'player_id': 2,\n",
       "  'player_name': 'Joshua',\n",
       "  'player_pokemon': {},\n",
       "  'time_played': 0.0}}"
      ]
     },
     "execution_count": 7,
     "metadata": {},
     "output_type": "execute_result"
    }
   ],
   "source": [
    "poke_players"
   ]
  },
  {
   "cell_type": "markdown",
   "metadata": {},
   "source": [
    "## 2. Defining \"gym\" locations\n",
    "As the sole programmer, Pokemon Stay will have to start small. To begin, there will be 10 different gym location websites on the internet. The gym locations are:\n",
    "\n",
    "1. 'reddit.com'\n",
    "2. 'amazon.com'\n",
    "3. 'twitter.com'\n",
    "4. 'linkedin.com'\n",
    "5. 'ebay.com'\n",
    "6. 'netflix.com'\n",
    "7. 'stackoverflow.com'\n",
    "8. 'github.com'\n",
    "9. 'quora.com'\n",
    "10. 'google.com'\n",
    "\n",
    "Set up a list of all the gym locations. This will be a list of strings. Print the list to check your work.\n",
    "For each player in poke_players, use sample (imported from random below) to randomly select 2 gyms and add these gyms to the gyms_visited field.\n",
    "Display the poke_players dict to check your work."
   ]
  },
  {
   "cell_type": "code",
   "execution_count": 8,
   "metadata": {
    "collapsed": true
   },
   "outputs": [],
   "source": [
    "from random import sample"
   ]
  },
  {
   "cell_type": "code",
   "execution_count": 9,
   "metadata": {},
   "outputs": [
    {
     "data": {
      "text/plain": [
       "[('a', 'b', 'c'), 0.8, 'apple']"
      ]
     },
     "execution_count": 9,
     "metadata": {},
     "output_type": "execute_result"
    }
   ],
   "source": [
    "# Run this cell a few times to understand sample. Play around with the function!\n",
    "this_list = ['apple', 1, ('a','b','c'), 0.8]\n",
    "sample(this_list, 3)"
   ]
  },
  {
   "cell_type": "code",
   "execution_count": 10,
   "metadata": {
    "collapsed": true
   },
   "outputs": [],
   "source": [
    "gyms  =  [\n",
    "         'reddit.com' ,\n",
    "    'amazon.com',\n",
    "    'twitter.com',\n",
    "    'linkedin.com',\n",
    "    'ebay.com',\n",
    "    'netflix.com',\n",
    "    'stackoverflow.com',\n",
    "    'github.com',\n",
    "    'quora.com',\n",
    "    'google.com',\n",
    "]"
   ]
  },
  {
   "cell_type": "code",
   "execution_count": 11,
   "metadata": {
    "collapsed": true
   },
   "outputs": [],
   "source": [
    "for player_id in poke_players.keys():\n",
    "    poke_players[player_id]['gyms_visited'].extend(sample(gyms,2)) \n",
    "    # extend allows us to add a list to the end of another"
   ]
  },
  {
   "cell_type": "code",
   "execution_count": 12,
   "metadata": {},
   "outputs": [
    {
     "data": {
      "text/plain": [
       "{1: {'gyms_visited': ['google.com', 'stackoverflow.com'],\n",
       "  'player_id': 1,\n",
       "  'player_name': 'Mike',\n",
       "  'player_pokemon': {},\n",
       "  'time_played': 0.0},\n",
       " 2: {'gyms_visited': ['github.com', 'reddit.com'],\n",
       "  'player_id': 2,\n",
       "  'player_name': 'Joshua',\n",
       "  'player_pokemon': {},\n",
       "  'time_played': 0.0}}"
      ]
     },
     "execution_count": 12,
     "metadata": {},
     "output_type": "execute_result"
    }
   ],
   "source": [
    "# the above code was ran twice so each player visisted 4 gyms\n",
    "poke_players"
   ]
  },
  {
   "cell_type": "markdown",
   "metadata": {},
   "source": [
    "## 3. Create a pokedex\n",
    "We also need to create some pokemon to catch! Let's store the attributes of each pokemon in a dictionary, since each pokemon has many charactaristics we'd like to store.\n",
    "\n",
    "Each pokemon will be defined by these variables:\n",
    "\n",
    "poke_id : unique identifier for each pokemon (integer, sequential)\n",
    "poke_name : the name of the pokemon (string)\n",
    "poke_type : the category of pokemon (string)\n",
    "hp : base hitpoints (integer between 400 and 500)\n",
    "attack : base attack (integer between 50 and 100)\n",
    "defense : base defense (integer between 50 and 100)\n",
    "special_attack : base special attack (integer between 100 and 150)\n",
    "special_defense : base sepecial defense (integer between 100 and 150)\n",
    "speed : base speed (integer between 0 and 100)\n",
    "\n",
    "## A) Create a function called create_pokemon\n",
    "The function should take arguments for poke_id, poke_name, and poke_type.\n",
    "Use np.random.randint to generate values for the numeric attributes based on the conditions above. If you're not clear on how this function works, there is a cell below with an example. Play around with it!\n",
    "The function should return a dict for the pokemon.\n",
    "Without assigning it to a variable, check the function's output by calling it with the following arguments:\n",
    "poke_id = 1\n",
    "poke_name = 'charmander'\n",
    "poke_type = 'fire'"
   ]
  },
  {
   "cell_type": "code",
   "execution_count": 15,
   "metadata": {
    "collapsed": true
   },
   "outputs": [],
   "source": [
    "import numpy as np"
   ]
  },
  {
   "cell_type": "code",
   "execution_count": 16,
   "metadata": {},
   "outputs": [
    {
     "data": {
      "text/plain": [
       "1"
      ]
     },
     "execution_count": 16,
     "metadata": {},
     "output_type": "execute_result"
    }
   ],
   "source": [
    "# Play around with this cell to understand np.random.randint!\n",
    "\n",
    "np.random.randint(0,10)"
   ]
  },
  {
   "cell_type": "code",
   "execution_count": 18,
   "metadata": {
    "collapsed": true
   },
   "outputs": [],
   "source": [
    "#a function that returns a dictionary\n",
    "def create_pokemon(poke_id, poke_name, poke_type):\n",
    "    return {\n",
    "        'poke_id': poke_id,\n",
    "        'poke_name': poke_name,\n",
    "        'poke_type': poke_type,\n",
    "        'hp': np.random.randint(400,500), \n",
    "        'attack': np.random.randint(50,100),\n",
    "        'defense': np.random.randint(50,100),\n",
    "        'special_attack': np.random.randint(100,150),\n",
    "        'special_defense': np.random.randint(100,150),\n",
    "        'speed': np.random.randint(0,100)\n",
    "    }"
   ]
  },
  {
   "cell_type": "code",
   "execution_count": 19,
   "metadata": {},
   "outputs": [
    {
     "data": {
      "text/plain": [
       "{'attack': 93,\n",
       " 'defense': 56,\n",
       " 'hp': 469,\n",
       " 'poke_id': 3,\n",
       " 'poke_name': 'bulbasaur',\n",
       " 'poke_type': 'grass',\n",
       " 'special_attack': 102,\n",
       " 'special_defense': 122,\n",
       " 'speed': 92}"
      ]
     },
     "execution_count": 19,
     "metadata": {},
     "output_type": "execute_result"
    }
   ],
   "source": [
    "create_pokemon(3, 'bulbasaur', 'grass')"
   ]
  },
  {
   "cell_type": "markdown",
   "metadata": {},
   "source": [
    "## B) Populate the pokedex!\n",
    "Now we need some pokemon to catch. Let's create a dictionary to store the information!\n",
    "\n",
    "Instantiate an empyt dictionary called pokedex.\n",
    "Define a function called create_and_add_to_pokedex. This function should...\n",
    "Take arguments for pokedex,  poke_id, poke_name, and poke_type.\n",
    "Uses the create_pokemon function you created earlier to create a pokemon using the provided poke_id, poke_name, and poke_type.\n",
    "\n",
    "Add a new key:value pair to the pokedex dictionary where:\n",
    "the key is the poke_id, and\n",
    "the value is the newly-created pokemon dict, including the poke_id (this is slightly redundant, but that's ok!)\n",
    "Prints the name of the pokemon added to the pokedex using str.format()\n",
    "Add the following 3 pokemon to your pokedex using create_and_add_to_pokedex:\n",
    "\n",
    "Id\tName\tType\n",
    "1\tcharmander\tfire\n",
    "2\tsquirtle\twater\n",
    "3\tbulasaur\tpoison\n",
    "\n",
    "Display your pokedex to check your work. It should look something like...\n",
    "\n",
    "{1: {'attack': 64,\n",
    "  'defense': 59,\n",
    "  'hp': 495,\n",
    "  'poke_id': 1,\n",
    "  'poke_name': 'charmander',\n",
    "  'poke_type': 'fire',\n",
    "  'special_attack': 100,\n",
    "  ..."
   ]
  },
  {
   "cell_type": "code",
   "execution_count": 20,
   "metadata": {
    "collapsed": true
   },
   "outputs": [],
   "source": [
    "\n",
    "# empty pokedex to add pokemon to.  # empty  \n",
    "pokedex = {}"
   ]
  },
  {
   "cell_type": "code",
   "execution_count": 21,
   "metadata": {
    "collapsed": true
   },
   "outputs": [],
   "source": [
    "# use that last function we created inside of this function to create pokemon and add to the pokedex\n",
    "def create_and_add_to_pokedex(pokedex, poke_id, poke_name, poke_type, ):\n",
    "    poke = create_pokemon(poke_id, poke_name, poke_type)\n",
    "    pokedex[poke['poke_id']] = poke\n",
    "    return print(\"{} added to pokedex\".format(poke['poke_name']))\n"
   ]
  },
  {
   "cell_type": "code",
   "execution_count": 22,
   "metadata": {},
   "outputs": [
    {
     "data": {
      "text/plain": [
       "{}"
      ]
     },
     "execution_count": 22,
     "metadata": {},
     "output_type": "execute_result"
    }
   ],
   "source": [
    "pokedex"
   ]
  },
  {
   "cell_type": "code",
   "execution_count": 23,
   "metadata": {},
   "outputs": [
    {
     "name": "stdout",
     "output_type": "stream",
     "text": [
      "charmander added to pokedex\n",
      "squirtle added to pokedex\n",
      "bulbasaur added to pokedex\n"
     ]
    }
   ],
   "source": [
    "# create some pokemone for the dex\n",
    "create_and_add_to_pokedex(pokedex, 1, 'charmander', 'fire')\n",
    "create_and_add_to_pokedex(pokedex, 2, 'squirtle', 'water')\n",
    "create_and_add_to_pokedex(pokedex, 3, 'bulbasaur', 'poison')"
   ]
  },
  {
   "cell_type": "code",
   "execution_count": 24,
   "metadata": {},
   "outputs": [
    {
     "data": {
      "text/plain": [
       "{1: {'attack': 71,\n",
       "  'defense': 65,\n",
       "  'hp': 410,\n",
       "  'poke_id': 1,\n",
       "  'poke_name': 'charmander',\n",
       "  'poke_type': 'fire',\n",
       "  'special_attack': 105,\n",
       "  'special_defense': 109,\n",
       "  'speed': 96},\n",
       " 2: {'attack': 72,\n",
       "  'defense': 70,\n",
       "  'hp': 410,\n",
       "  'poke_id': 2,\n",
       "  'poke_name': 'squirtle',\n",
       "  'poke_type': 'water',\n",
       "  'special_attack': 146,\n",
       "  'special_defense': 148,\n",
       "  'speed': 72},\n",
       " 3: {'attack': 74,\n",
       "  'defense': 65,\n",
       "  'hp': 454,\n",
       "  'poke_id': 3,\n",
       "  'poke_name': 'bulbasaur',\n",
       "  'poke_type': 'poison',\n",
       "  'special_attack': 144,\n",
       "  'special_defense': 103,\n",
       "  'speed': 94}}"
      ]
     },
     "execution_count": 24,
     "metadata": {},
     "output_type": "execute_result"
    }
   ],
   "source": [
    "pokedex"
   ]
  },
  {
   "cell_type": "markdown",
   "metadata": {},
   "source": [
    "## 4. Let's capture some pokemon!\n",
    "The 'player_pokemon' keyed dictionaries for each player keep track of which of the pokemon each player has.\n",
    "\n",
    "The keys of the 'player_pokemon' dictionaries are the pokemon ids that correspond to the ids in the pokedex dictionary you created earlier, and the values are the individual pokemon dicts. Just like your pokedex, but for each player individually!\n",
    "\n",
    "Define a function called add_pokemon_to_player that...\n",
    "Takes arguents for player_id, poke_id, player_dict, and pokedex.\n",
    "You may set the default player_dict to poke_players and the default pokedex to the external variable pokedex\n",
    "Adds the desired pokemon to the player_pokemon field of the specified player\n",
    "Prints which pokemon was added to which player.\n",
    "Use your function to add squirtle to player 1, and add charmander and bulbasaur to player 2\n",
    "Display your poke_players to check your work."
   ]
  },
  {
   "cell_type": "code",
   "execution_count": 25,
   "metadata": {
    "collapsed": true
   },
   "outputs": [],
   "source": [
    "# takes arguments player_id and poke_id and adds said pokemon to said players captured pokemon\n",
    "# there are two arguments that have default values, player_dict and pokedex,\n",
    "# default arguments means that that does not need to be expliticly stated as there is a default value for it.\n",
    "\n",
    "def add_pokemon_to_player(player_id, poke_id, player_dict = poke_players, pokedex = pokedex):\n",
    "    player_dict[player_id]['player_pokemon'][poke_id] = pokedex[poke_id]\n",
    "    print(\"{} added to {}'s player_pokemon!\".format(pokedex[poke_id]['poke_name'], player_dict[player_id]['player_name']))"
   ]
  },
  {
   "cell_type": "code",
   "execution_count": 26,
   "metadata": {},
   "outputs": [
    {
     "name": "stdout",
     "output_type": "stream",
     "text": [
      "squirtle added to Mike's player_pokemon!\n",
      "charmander added to Joshua's player_pokemon!\n",
      "bulbasaur added to Joshua's player_pokemon!\n"
     ]
    }
   ],
   "source": [
    "# add some pokemon to some players\n",
    "add_pokemon_to_player(1, 2)\n",
    "add_pokemon_to_player(2,1)\n",
    "add_pokemon_to_player(2,3)"
   ]
  },
  {
   "cell_type": "code",
   "execution_count": 27,
   "metadata": {},
   "outputs": [
    {
     "name": "stdout",
     "output_type": "stream",
     "text": [
      "bulbasaur added to Mike's player_pokemon!\n"
     ]
    }
   ],
   "source": [
    "# players can have only 1 of each pokemon (Bulbasaur, Squirtle, Charmander)\n",
    "# all players can have a Bulbasaur or a Squirtle or a Charmander\n",
    "add_pokemon_to_player(1,3)"
   ]
  },
  {
   "cell_type": "markdown",
   "metadata": {},
   "source": [
    "## 5. What gyms have players visited?\n",
    "\n",
    "\n",
    "## A) Checking gyms\n",
    "Write a for-loop that:\n",
    "\n",
    "Iterates through the pokemon_gyms list of gym locations you defined before.\n",
    "For each gym, iterate through each player in the players dictionary with a second, internal for-loop.\n",
    "If the player has visited the gym, print out \"[player] has visited [gym location].\", filling in [player] and [gym location] with the current player's name and current gym location."
   ]
  },
  {
   "cell_type": "code",
   "execution_count": 28,
   "metadata": {},
   "outputs": [
    {
     "name": "stdout",
     "output_type": "stream",
     "text": [
      "Joshua has visited reddit.com\n",
      "Mike has visited stackoverflow.com\n",
      "Joshua has visited github.com\n",
      "Mike has visited google.com\n"
     ]
    }
   ],
   "source": [
    "for gym in gyms: # look at each gym\n",
    "    for player_id, player_dict in poke_players.items(): # look at all the players and their gyms\n",
    "        if gym in player_dict['gyms_visited']: # if the current gym is one a player has visited\n",
    "            print(\"{} has visited {}\".format(player_dict['player_name'], gym)) # print that they have visited it."
   ]
  },
  {
   "cell_type": "markdown",
   "metadata": {},
   "source": [
    "## B) Computational Complexity\n",
    "How many times did that loop run? If you have N gyms and also M players, how many times would it run as a function of N and M?\n",
    "\n",
    "(You can write your answer as Markdown text.)\n",
    "\n",
    "$N \\text{ gyms x } M \\text{ players } = NxM$"
   ]
  },
  {
   "cell_type": "markdown",
   "metadata": {},
   "source": [
    "## 6. Calculate player \"power\".\n",
    "Define a function that will calculate a player's \"power\". Player power is defined as the sum of the base statistics all of their pokemon.\n",
    "\n",
    "$$\n",
    "\\text{player power } = \\sum_{i = 1}^{n}\\text{attack}_i + \\text{defense}_i + \\text{special attack}_i + \\text{special defense}_i\n",
    "$$\n",
    "Where $i$ is an individual pokemon in a player's player_pokemon. ($\\sum$ just means sum, so you're just adding up all the attributes listed above for all the pokemon in the player's player_pokemon).\n",
    "\n",
    "Your function should:\n",
    "\n",
    "Accept a poke_players dictionary and a player_id as arguments.\n",
    "For the specified player_id, look up that player's pokemon.\n",
    "Find and aggregate the attack and defense values for each of the player's pokemon.\n",
    "Print \"[player name]'s power is [player power].\", where the player power is the sum of the base statistics for all of their pokemon.\n",
    "Return the player's power value.\n",
    "Check your work by displaying pokemon power for each of your players."
   ]
  },
  {
   "cell_type": "code",
   "execution_count": 34,
   "metadata": {
    "collapsed": true
   },
   "outputs": [],
   "source": [
    "# # 1 mantatory argument of the player ID\n",
    "# # take that ID, go through all the pokemon said ID has\n",
    "# # add up all the relevant stats and return that total value.\n",
    "def get_power(player_id, player_dict = poke_players):\n",
    "    power = 0.0 # base power to increment \n",
    "    attrs = ['attack','defense','special_attack','special_defense'] # list of attributes that we want \n",
    "    for poke_id, poke_dict in player_dict[player_id]['player_pokemon'].items(): # for each pokemon\n",
    "        for attr in attrs: # grad the attribute from the pokemon\n",
    "            power += poke_dict[attr] # add it to the power stat\n",
    "    print(\"{}'s power is {}\".format(player_dict[player_id]['player_name'], power))\n",
    "    return power"
   ]
  },
  {
   "cell_type": "code",
   "execution_count": 49,
   "metadata": {},
   "outputs": [
    {
     "data": {
      "text/plain": [
       "{1: {'gyms_visited': ['google.com', 'stackoverflow.com'],\n",
       "  'player_id': 1,\n",
       "  'player_name': 'Mike',\n",
       "  'player_pokemon': {2: {'attack': 72,\n",
       "    'defense': 70,\n",
       "    'hp': 410,\n",
       "    'poke_id': 2,\n",
       "    'poke_name': 'squirtle',\n",
       "    'poke_type': 'water',\n",
       "    'special_attack': 146,\n",
       "    'special_defense': 148,\n",
       "    'speed': 72},\n",
       "   3: {'attack': 74,\n",
       "    'defense': 65,\n",
       "    'hp': 454,\n",
       "    'poke_id': 3,\n",
       "    'poke_name': 'bulbasaur',\n",
       "    'poke_type': 'poison',\n",
       "    'special_attack': 144,\n",
       "    'special_defense': 103,\n",
       "    'speed': 94}},\n",
       "  'time_played': 0.0},\n",
       " 2: {'gyms_visited': ['github.com', 'reddit.com'],\n",
       "  'player_id': 2,\n",
       "  'player_name': 'Joshua',\n",
       "  'player_pokemon': {1: {'attack': 71,\n",
       "    'defense': 65,\n",
       "    'hp': 410,\n",
       "    'poke_id': 1,\n",
       "    'poke_name': 'charmander',\n",
       "    'poke_type': 'fire',\n",
       "    'special_attack': 105,\n",
       "    'special_defense': 109,\n",
       "    'speed': 96},\n",
       "   3: {'attack': 74,\n",
       "    'defense': 65,\n",
       "    'hp': 454,\n",
       "    'poke_id': 3,\n",
       "    'poke_name': 'bulbasaur',\n",
       "    'poke_type': 'poison',\n",
       "    'special_attack': 144,\n",
       "    'special_defense': 103,\n",
       "    'speed': 94}},\n",
       "  'time_played': 0.0}}"
      ]
     },
     "execution_count": 49,
     "metadata": {},
     "output_type": "execute_result"
    }
   ],
   "source": [
    "poke_players"
   ]
  },
  {
   "cell_type": "code",
   "execution_count": 45,
   "metadata": {},
   "outputs": [],
   "source": [
    "def get_power(player_id, player_dict = poke_players, poke_dict = 'player_pokemon'):\n",
    "    power = 0.0 # base power to increment \n",
    "    attrs = ['attack','defense','special_attack','special_defense'] # list of attributes that we want \n",
    "    for poke_id, poke_dict in player_dict[player_id]['player_pokemon'].items(): # for each pokemon\n",
    "        for attr in attrs: # grad the attribute from the pokemon\n",
    "            power += attr # add it to the power stat\n",
    "    print(\"{}'s power is {}\".format(player_dict[player_id]['player_name'], power))\n",
    "    return power"
   ]
  },
  {
   "cell_type": "code",
   "execution_count": 47,
   "metadata": {},
   "outputs": [],
   "source": [
    "# player_dict"
   ]
  },
  {
   "cell_type": "code",
   "execution_count": 48,
   "metadata": {},
   "outputs": [
    {
     "ename": "TypeError",
     "evalue": "unsupported operand type(s) for +=: 'float' and 'str'",
     "output_type": "error",
     "traceback": [
      "\u001b[0;31m---------------------------------------------------------------------------\u001b[0m",
      "\u001b[0;31mTypeError\u001b[0m                                 Traceback (most recent call last)",
      "\u001b[0;32m<ipython-input-48-3027088003f8>\u001b[0m in \u001b[0;36m<module>\u001b[0;34m()\u001b[0m\n\u001b[1;32m      1\u001b[0m \u001b[0;31m# because values were randomized, yours will be different.\u001b[0m\u001b[0;34m\u001b[0m\u001b[0;34m\u001b[0m\u001b[0m\n\u001b[1;32m      2\u001b[0m \u001b[0;32mfor\u001b[0m \u001b[0mplayer_id\u001b[0m \u001b[0;32min\u001b[0m \u001b[0mpoke_players\u001b[0m\u001b[0;34m.\u001b[0m\u001b[0mkeys\u001b[0m\u001b[0;34m(\u001b[0m\u001b[0;34m)\u001b[0m\u001b[0;34m:\u001b[0m\u001b[0;34m\u001b[0m\u001b[0m\n\u001b[0;32m----> 3\u001b[0;31m     \u001b[0mprint\u001b[0m\u001b[0;34m(\u001b[0m\u001b[0mget_power\u001b[0m\u001b[0;34m(\u001b[0m\u001b[0mplayer_id\u001b[0m\u001b[0;34m)\u001b[0m\u001b[0;34m)\u001b[0m\u001b[0;34m\u001b[0m\u001b[0m\n\u001b[0m",
      "\u001b[0;32m<ipython-input-45-97de3593c29e>\u001b[0m in \u001b[0;36mget_power\u001b[0;34m(player_id, player_dict, poke_dict)\u001b[0m\n\u001b[1;32m      4\u001b[0m     \u001b[0;32mfor\u001b[0m \u001b[0mpoke_id\u001b[0m\u001b[0;34m,\u001b[0m \u001b[0mpoke_dict\u001b[0m \u001b[0;32min\u001b[0m \u001b[0mplayer_dict\u001b[0m\u001b[0;34m[\u001b[0m\u001b[0mplayer_id\u001b[0m\u001b[0;34m]\u001b[0m\u001b[0;34m[\u001b[0m\u001b[0;34m'player_pokemon'\u001b[0m\u001b[0;34m]\u001b[0m\u001b[0;34m.\u001b[0m\u001b[0mitems\u001b[0m\u001b[0;34m(\u001b[0m\u001b[0;34m)\u001b[0m\u001b[0;34m:\u001b[0m \u001b[0;31m# for each pokemon\u001b[0m\u001b[0;34m\u001b[0m\u001b[0m\n\u001b[1;32m      5\u001b[0m         \u001b[0;32mfor\u001b[0m \u001b[0mattr\u001b[0m \u001b[0;32min\u001b[0m \u001b[0mattrs\u001b[0m\u001b[0;34m:\u001b[0m \u001b[0;31m# grad the attribute from the pokemon\u001b[0m\u001b[0;34m\u001b[0m\u001b[0m\n\u001b[0;32m----> 6\u001b[0;31m             \u001b[0mpower\u001b[0m \u001b[0;34m+=\u001b[0m \u001b[0mattr\u001b[0m \u001b[0;31m# add it to the power stat\u001b[0m\u001b[0;34m\u001b[0m\u001b[0m\n\u001b[0m\u001b[1;32m      7\u001b[0m     \u001b[0mprint\u001b[0m\u001b[0;34m(\u001b[0m\u001b[0;34m\"{}'s power is {}\"\u001b[0m\u001b[0;34m.\u001b[0m\u001b[0mformat\u001b[0m\u001b[0;34m(\u001b[0m\u001b[0mplayer_dict\u001b[0m\u001b[0;34m[\u001b[0m\u001b[0mplayer_id\u001b[0m\u001b[0;34m]\u001b[0m\u001b[0;34m[\u001b[0m\u001b[0;34m'player_name'\u001b[0m\u001b[0;34m]\u001b[0m\u001b[0;34m,\u001b[0m \u001b[0mpower\u001b[0m\u001b[0;34m)\u001b[0m\u001b[0;34m)\u001b[0m\u001b[0;34m\u001b[0m\u001b[0m\n\u001b[1;32m      8\u001b[0m     \u001b[0;32mreturn\u001b[0m \u001b[0mpower\u001b[0m\u001b[0;34m\u001b[0m\u001b[0m\n",
      "\u001b[0;31mTypeError\u001b[0m: unsupported operand type(s) for +=: 'float' and 'str'"
     ]
    }
   ],
   "source": [
    "# because values were randomized, yours will be different.  \n",
    "for player_id in poke_players.keys():\n",
    "    print(get_power(player_id))"
   ]
  },
  {
   "cell_type": "markdown",
   "metadata": {},
   "source": [
    "## 7. Load a pokedex file containing all the pokemon\n",
    "Load data using the with open() method.\n",
    "While you were putting together the prototype code, your colleagues were preparing a dataset of Pokemon and their attributes (This was a rush job, so they may have picked some crazy values for some...). Your task is to load the data into a list of lists so you can manipulate it.\n",
    "\n",
    "The type of the data should be a list\n",
    "The type of each element in that list should be a list\n",
    "The type of each element in the sub-list should be str or float.\n",
    "The code provided loads the data into one looooong str. To get it into the correct format:\n",
    "\n",
    "Use your_string.replace() to remove \", where your_string is any object of type str.\n",
    "Use your_string.split() to create a new row for each line. New lines are denoted with a '\\n'.\n",
    "Iterate through your data. Use try/except to cast numeric data as type float.\n",
    "Your end result is effectively a matrix. Each list $i$ in the outer list is a row, and the $j$th elements of list together form the jth column, which represents a data attribute. The first three lists in your pokedex list should look like this:\n",
    "\n",
    "['PokedexNumber', 'Name', 'Type', 'Total', 'HP', 'Attack', 'Defense', 'SpecialAttack', 'SpecialDefense', 'Speed']\n",
    "[1.0, 'Bulbasaur', 'GrassPoison', 318.0, 45.0, 49.0, 49.0, 65.0, 65.0, 45.0]\n",
    "[2.0, 'Ivysaur', 'GrassPoison', 405.0, 60.0, 62.0, 63.0, 80.0, 80.0, 60.0]\n",
    "\n",
    "WARNING: Don't print or display your entire new pokedex! Viewing that many entries will clog up your notebook and make it difficult to read."
   ]
  },
  {
   "cell_type": "code",
   "execution_count": null,
   "metadata": {
    "collapsed": true
   },
   "outputs": [],
   "source": [
    "# Code to read in pokedex info\n",
    "raw_pd = ''\n",
    "pokedex_file = 'pokedex_basic.csv'\n",
    "with open(pokedex_file, 'r') as f:\n",
    "    raw_pd = f.read()\n",
    "    \n",
    "# the pokedex string is assigned to the raw_pd variable\n",
    "# the file is read in as a single string where newlines `\\n` divide records"
   ]
  },
  {
   "cell_type": "code",
   "execution_count": null,
   "metadata": {
    "collapsed": true
   },
   "outputs": [],
   "source": [
    "# cleans and splits the single string into appropriate records\n",
    "newlines = raw_pd.replace('\"','').split('\\n')\n",
    "# each record is now its own string\n",
    "newlines[:3]"
   ]
  },
  {
   "cell_type": "code",
   "execution_count": null,
   "metadata": {
    "collapsed": true
   },
   "outputs": [],
   "source": [
    "# splits record strings up into lists\n",
    "new_pd = []\n",
    "for line in newlines:\n",
    "    new_pd.append(line.split(','))\n",
    "    \n",
    "new_pd[:2]"
   ]
  },
  {
   "cell_type": "code",
   "execution_count": null,
   "metadata": {
    "collapsed": true
   },
   "outputs": [],
   "source": [
    "# converts numeric values from strings to floats\n",
    "for i, line in enumerate(new_pd): # i == each record/row\n",
    "    for j, item in enumerate(line): # j == individual value in each record.\n",
    "        try:\n",
    "            new_pd[i][j] = float(item) # \n",
    "        except:\n",
    "            pass"
   ]
  },
  {
   "cell_type": "code",
   "execution_count": null,
   "metadata": {
    "collapsed": true
   },
   "outputs": [],
   "source": [
    "new_pd[:3]"
   ]
  },
  {
   "cell_type": "markdown",
   "metadata": {},
   "source": [
    "## 8. Changing Types\n",
    "A) Convert your data into a dictionary.\n",
    "Your dict should...\n",
    "\n",
    "have keys of the new pokedex as the PokedexNumber\n",
    "have values containing data for each pokemon in a dictionary form, just like our pokedex from before\n",
    "Keep in mind, the keys here are a little bit different than the original pokedex.\n",
    "Be careful of the header, you do not want to include that as a pokemon.\n",
    "WARNING: Don't display your entire pokedex when turning this in! Viewing that many entries will clog up your notebook and make it difficult to read. If youd like to visualize your pokedex, index with a few of its keys.\n",
    "Your new_pd_dict should be organized like...\n",
    "\n",
    "{1.0: {'Attack': 49.0,\n",
    "  'Defense': 49.0,\n",
    "  'HP': 45.0,\n",
    "  'Name': 'Bulbasaur',\n",
    "  'PokedexNumber': 1.0,\n",
    "  'SpecialAttack': 65.0,\n",
    "  'SpecialDefense': 65.0,\n",
    "  'Speed': 45.0,\n",
    "  'Total': 318.0,\n",
    "  'Type': 'GrassPoison'},\n",
    " 2.0: {'Attack': 62.0,\n",
    "  'Defense': 63.0,\n",
    "  'HP': 60.0,\n",
    "  'Name': 'Ivysaur',"
   ]
  },
  {
   "cell_type": "code",
   "execution_count": null,
   "metadata": {
    "collapsed": true
   },
   "outputs": [],
   "source": [
    "header = new_pd[0] # extracting the column headers\n",
    "body = new_pd[1:] # all the pokemon values"
   ]
  },
  {
   "cell_type": "code",
   "execution_count": null,
   "metadata": {
    "collapsed": true
   },
   "outputs": [],
   "source": [
    "new_pd_dict = {} # empty dict toa append to.\n",
    "\n",
    "for row in body:\n",
    "    poke = {i:j for i,j in zip(header, row)} # goes through each row and uses the header to create keys.\n",
    "    new_pd_dict[poke['PokedexNumber']] = poke"
   ]
  },
  {
   "cell_type": "markdown",
   "metadata": {},
   "source": [
    "## B) Orient your new_pd_dict by columns.\n",
    "Your new pokedex is oriented by index, meaning that each entry is a row value. Your goal in this exercise is to orient the pokedex dict by columns, meaning:\n",
    "\n",
    "The keys of the dictionary are the column names\n",
    "The values of the dictionary are a column vector of that feature.\n",
    "HINT: Read documentation on defaultdict (from collections import defaultdict), this may help!\n",
    "BONUS: Do this with list and/or dictionary comprehensions only"
   ]
  },
  {
   "cell_type": "code",
   "execution_count": null,
   "metadata": {
    "collapsed": true
   },
   "outputs": [],
   "source": [
    "from collections import defaultdict\n",
    "### The below three blocks are 3 solutions to the same problem."
   ]
  },
  {
   "cell_type": "code",
   "execution_count": null,
   "metadata": {
    "collapsed": true
   },
   "outputs": [],
   "source": [
    "# Base solution\n",
    "new_pd_dict_columns = {}\n",
    "\n",
    "# pretty much have values that contain all of a type of item\n",
    "# new_pd_dict_columns['poke_name'] = [Every pokemons name]\n",
    "\n",
    "# creating place holders\n",
    "for col_name in header:\n",
    "    new_pd_dict_columns[col_name] = []\n",
    "\n",
    "for poke_id, single_poke_dict in new_pd_dict.items(): # go through every individual pokemons dict\n",
    "    for field, attribute in single_poke_dict.items(): # go through all the values in the dict\n",
    "        new_pd_dict_columns[field].append(attribute)"
   ]
  },
  {
   "cell_type": "code",
   "execution_count": null,
   "metadata": {
    "collapsed": true
   },
   "outputs": [],
   "source": [
    "### Using defaultdict\n",
    "new_pd_dict_columns = defaultdict(list)\n",
    "\n",
    "for poke_id, single_poke_dict in new_pd_dict.items():\n",
    "    for field, attribute in single_poke_dict.items():\n",
    "        new_pd_dict_columns[field].append(attribute)"
   ]
  },
  {
   "cell_type": "code",
   "execution_count": null,
   "metadata": {
    "collapsed": true
   },
   "outputs": [],
   "source": [
    "\n",
    "# Using list/dict comprehensions# Using  \n",
    "new_pd_dict_columns = {\n",
    "    col_name:[single_poke_dict[col_name] for poke_id, single_poke_dict in new_pd_dict.items()] for col_name in header\n",
    "}"
   ]
  },
  {
   "cell_type": "markdown",
   "metadata": {},
   "source": [
    "## 9. Write a function to filter your pokedex!\n",
    "Your goal in this exercise is to search your pokedex based on your own defined criteria! Build a function that...\n",
    "\n",
    "Takes arguments of:\n",
    "a pokedex dict (can be either the row or column oriented dict, pick the one of your choice!)\n",
    "a filter_options dict (described below)\n",
    "For parameters in your filter_dict, your function should return:\n",
    "pokemon that are >= (greater than or equal to) the value you passed in your filter_dict for that field for continuous values\n",
    "pokemon of that name or type for string values (equal)\n",
    "Return a list of the individual pokemon dictionaries that meet your search criteia!"
   ]
  },
  {
   "cell_type": "code",
   "execution_count": null,
   "metadata": {
    "collapsed": true
   },
   "outputs": [],
   "source": [
    "from collections import Counter"
   ]
  },
  {
   "cell_type": "code",
   "execution_count": null,
   "metadata": {
    "collapsed": true
   },
   "outputs": [],
   "source": [
    "# Example where orient is rows, not columns\n",
    "def filter_pokemon(pokedex, filter_dict):\n",
    "    results = [] # results of query\n",
    "    num_filters = len(list(filter_dict.keys())) # number of items looking for in our filter\n",
    "    for poke_id, poke_attr_dict in pokedex.items():\n",
    "        counter = 0 # used to count individual matches associate with our filter\n",
    "        for field, value in filter_dict.items(): # \n",
    "            if type(value) is str: # if the filter value is a string\n",
    "                if value == poke_attr_dict[field]: # check for exact match\n",
    "                    counter += 1 # if true +1 to matched filter fields\n",
    "            else: # if filter value is a float\n",
    "                if poke_attr_dict[field] >= value: # check for equal to or greater values\n",
    "                    counter += 1 # if true +1 to matched filter fields\n",
    "        if counter == num_filters: # if we have an equal amount of passable fields to filter fields\n",
    "            results.append(poke_attr_dict) # append the pokemon\n",
    "    return results"
   ]
  },
  {
   "cell_type": "code",
   "execution_count": null,
   "metadata": {
    "collapsed": true
   },
   "outputs": [],
   "source": [
    "filter_dict = {'SpecialAttack':50,\n",
    "               'Type':'GrassPoison',\n",
    "               'Defense':80}\n",
    "filter_pokemon(new_pd_dict, filter_dict)"
   ]
  },
  {
   "cell_type": "markdown",
   "metadata": {},
   "source": [
    "## 10. Descriptive statistics on the prototype pokedex\n",
    "\n",
    "\n",
    "A) What is the population mean and standard deviation of the \"Total\" attribute for all characters in the Pokedex?¶"
   ]
  },
  {
   "cell_type": "code",
   "execution_count": null,
   "metadata": {
    "collapsed": true
   },
   "outputs": [],
   "source": [
    "import numpy as np"
   ]
  },
  {
   "cell_type": "code",
   "execution_count": null,
   "metadata": {
    "collapsed": true
   },
   "outputs": [],
   "source": [
    "\n",
    "# mean# mean\n",
    " this_meanthis_mea  = np.mean(new_pd_dict_columns['Total'])\n",
    "this_mean"
   ]
  },
  {
   "cell_type": "code",
   "execution_count": null,
   "metadata": {
    "collapsed": true
   },
   "outputs": [],
   "source": [
    "# standard deviation\n",
    "this_std = np.std(new_pd_dict_columns['Total'])\n",
    "this_std"
   ]
  },
  {
   "cell_type": "markdown",
   "metadata": {},
   "source": [
    "## B) Outlier detection part 1\n",
    "The game is no fun if the pokemon are wildly unbalanced! Are any pokemon \"overpowered\", which we'll define as having a \"Total\" more than 2.5 standard deviations from the population mean?"
   ]
  },
  {
   "cell_type": "code",
   "execution_count": null,
   "metadata": {
    "collapsed": true
   },
   "outputs": [],
   "source": [
    "# a list comprehension across many lines pretty much the same as\n",
    "# for poke_id, ind_poke_dict in new_pd_dict.items() :\n",
    "#     if ind_poke_dict['Total'] > 2.5*this_std + this_mean\n",
    "#          overpowered.append(ind_poke_dict)\n",
    "\n",
    "overpowered = [ind_poke_dict \n",
    "               for poke_id, ind_poke_dict in new_pd_dict.items() \n",
    "               if ind_poke_dict['Total'] > 2.5*this_std + this_mean]\n",
    "\n",
    "overpowered"
   ]
  },
  {
   "cell_type": "markdown",
   "metadata": {},
   "source": [
    "## C) Outlier detection part 2\n",
    "Tukey's method for outline detection states that anything more than 1.5 * the interquartile range above or below the median is an outlier. Find outliers using this method!"
   ]
  },
  {
   "cell_type": "code",
   "execution_count": null,
   "metadata": {
    "collapsed": true
   },
   "outputs": [],
   "source": [
    "first_quartile = np.percentile(new_pd_dict_columns['Total'], 25)\n",
    "first_quartile"
   ]
  },
  {
   "cell_type": "code",
   "execution_count": null,
   "metadata": {
    "collapsed": true
   },
   "outputs": [],
   "source": [
    "third_quartile = np.percentile(new_pd_dict_columns['Total'], 75)\n",
    "third_quartile"
   ]
  },
  {
   "cell_type": "code",
   "execution_count": null,
   "metadata": {
    "collapsed": true
   },
   "outputs": [],
   "source": [
    "iqr = third_quartile - first_quartile\n",
    "iqr"
   ]
  },
  {
   "cell_type": "code",
   "execution_count": null,
   "metadata": {
    "collapsed": true
   },
   "outputs": [],
   "source": [
    "\n",
    "lower_fencelower_fe  = first_quartile - iqr\n",
    "upper_fence = third_quartile + iqr\n",
    "display(lower_fence) # that iPython Display we imported earlier\n",
    "display(upper_fence)"
   ]
  },
  {
   "cell_type": "code",
   "execution_count": null,
   "metadata": {
    "collapsed": true
   },
   "outputs": [],
   "source": [
    "# same logic as the overpowered question, except our bounds are 1.5 standard deviations instead of 2.5\n",
    "# AND we are checking both directions (High and Low).  \n",
    "outliers = [ind_poke_dict \n",
    "               for poke_id, ind_poke_dict in new_pd_dict.items() \n",
    "               if ind_poke_dict['Total'] < lower_fence or ind_poke_dict['Total'] > upper_fence]\n",
    "\n",
    "outliers"
   ]
  },
  {
   "cell_type": "markdown",
   "metadata": {},
   "source": [
    "## 11. Distributions, Sampling, and Confidence Intervals\n",
    "Now that you've loaded your data and identified outliers, you'd like to understand your data as a whole. Use the 1.3 lesson as a guide to complete the following challenges.\n",
    "\n",
    "A) Plot histograms for each of the numeric values.\n",
    "There are 7 numeric features (columns):\n",
    "\n",
    "numeric_columns = ['Attack','Defense','HP','SpecialAttack','SpecialDefense','Speed','Total']\n",
    "Using matplotlib.pyplot subplots, create a figure that:\n",
    "\n",
    "displays a histogram of each feature\n",
    "Use the column name as the title of each subplot"
   ]
  },
  {
   "cell_type": "code",
   "execution_count": null,
   "metadata": {
    "collapsed": true
   },
   "outputs": [],
   "source": [
    "import matplotlib.pyplot as plt\n",
    "%matplotlib inline"
   ]
  },
  {
   "cell_type": "code",
   "execution_count": null,
   "metadata": {
    "collapsed": true
   },
   "outputs": [],
   "source": [
    "numeric_columns = ['Attack','Defense','HP','SpecialAttack','SpecialDefense','Speed','Total']"
   ]
  },
  {
   "cell_type": "code",
   "execution_count": null,
   "metadata": {
    "collapsed": true
   },
   "outputs": [],
   "source": [
    "fig = plt.figure(figsize=(16,8))\n",
    "for i, col in enumerate(numeric_columns): # for index and column name \n",
    "    fig.add_subplot(2,4,1+i) # create subplots, use index to increment \n",
    "    col_data = new_pd_dict_columns[col]\n",
    "    plt.hist(col_data, bins=20)\n",
    "    plt.title(col)"
   ]
  },
  {
   "cell_type": "markdown",
   "metadata": {},
   "source": [
    "## B) Are any features normally distributed? What is the skew of each column?\n",
    "Use scipy.stats.normaltest and scipy.stats.skew to find if each feature is normally distributed and to find if each distribution is skewed positive or negative."
   ]
  },
  {
   "cell_type": "code",
   "execution_count": null,
   "metadata": {
    "collapsed": true
   },
   "outputs": [],
   "source": [
    "from scipy.stats import normaltest, skew"
   ]
  },
  {
   "cell_type": "code",
   "execution_count": null,
   "metadata": {
    "collapsed": true
   },
   "outputs": [],
   "source": [
    "for col in numeric_columns:\n",
    "    norm_pvalue = normaltest(new_pd_dict_columns[col]).pvalue # do a normal test, return p value\n",
    "    col_skew = skew(new_pd_dict_columns[col]) # do the skew test\n",
    "    if norm_pvalue < .05: \n",
    "        print('{} is not normally distributed since the pvalue {} is less than .05. The skew is {}\\n'\n",
    "              .format(col, round(norm_pvalue,2), round(col_skew,2)))\n",
    "    else:\n",
    "        print('{} is normally distributed since the pvalue {} is greater than .05. The skew is {}\\n'\n",
    "              .format(col, round(norm_pvalue,2), round(col_skew,2)))"
   ]
  },
  {
   "cell_type": "code",
   "execution_count": null,
   "metadata": {
    "collapsed": true
   },
   "outputs": [],
   "source": []
  },
  {
   "cell_type": "markdown",
   "metadata": {},
   "source": [
    "## C) Find the 90% confidence interval for the mean of each of the numeric columns\n",
    "Like we did in the 1.3 lesson, create functions to sample your data and generate a confidence interval for the mean.\n",
    "Use your functions to determine the 90% confidence interval for the mean of each column.\n",
    "What is the interpretation of your confidence interval?"
   ]
  },
  {
   "cell_type": "code",
   "execution_count": null,
   "metadata": {
    "collapsed": true
   },
   "outputs": [],
   "source": [
    "def get_sample_means(distribution, sample_size = 200, num_samples = 200, replace = False): # randomly sample\n",
    "    sample_means = []\n",
    "    for _ in range(num_samples):\n",
    "        this_mean = np.random.choice(distribution, size=sample_size, replace=replace).mean()\n",
    "        sample_means.append(this_mean)\n",
    "    \n",
    "    return sample_means"
   ]
  },
  {
   "cell_type": "code",
   "execution_count": null,
   "metadata": {
    "collapsed": true
   },
   "outputs": [],
   "source": [
    "def confidence_interval_mean(distribution, confidence, sample_size = 200, num_samples = 200):\n",
    "    \n",
    "    '''\n",
    "    distribution: a distribution for which you want the confidence interval\n",
    "    confidence: how confident you want to be\n",
    "    returns: lower and upper bound of the confidence interval.\n",
    "    interpretation: you are <confidence * 100> % sure the actual (population) mean lies between the lower and upper bound.\n",
    "    i.e. if your confidence interval is 90%, the mean lies within this range 90% of the time.\n",
    "    '''\n",
    "    \n",
    "    means = get_sample_means(distribution, sample_size = sample_size, num_samples = num_samples)\n",
    "    \n",
    "    dist_from_0_or_100 = (100-confidence)/2\n",
    "    lower_percentile, upper_percentile = 0+dist_from_0_or_100, 100-dist_from_0_or_100\n",
    "\n",
    "    return (np.percentile(means, lower_percentile), np.percentile(means, upper_percentile))"
   ]
  },
  {
   "cell_type": "code",
   "execution_count": null,
   "metadata": {
    "collapsed": true
   },
   "outputs": [],
   "source": [
    "for col in numeric_columns:\n",
    "    lower, upper = confidence_interval_mean(new_pd_dict_columns[col], 90)\n",
    "    print('We can be 90% confident that the population mean for {} lies between {} and {}\\n'\n",
    "          .format(col, round(lower,2), round(upper,2)))"
   ]
  },
  {
   "cell_type": "code",
   "execution_count": null,
   "metadata": {
    "collapsed": true
   },
   "outputs": [],
   "source": []
  }
 ],
 "metadata": {
  "kernelspec": {
   "display_name": "Python 3",
   "language": "python",
   "name": "python3"
  },
  "language_info": {
   "codemirror_mode": {
    "name": "ipython",
    "version": 3
   },
   "file_extension": ".py",
   "mimetype": "text/x-python",
   "name": "python",
   "nbconvert_exporter": "python",
   "pygments_lexer": "ipython3",
   "version": "3.6.1"
  }
 },
 "nbformat": 4,
 "nbformat_minor": 2
}
