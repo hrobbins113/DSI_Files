{
 "cells": [
  {
   "cell_type": "code",
   "execution_count": null,
   "metadata": {
    "collapsed": true
   },
   "outputs": [],
   "source": [
    "1. Data Types:\n",
    "    Strings\n",
    "    Tuples\n",
    "    Sets\n",
    "    Dictionaries\n",
    "    List\n",
    "    Integers\n",
    "    Floats\n",
    "    \n",
    "2. Describe the difference between discrete and continuous random variables.\n",
    "\n",
    "3. What is the difference between probability mass functions and cumulative density functions.\n",
    "\n",
    "4. Distribution Types:\n",
    "    Binomial\n",
    "    Poisson\n",
    "    Normal(Gaussian)\n",
    "    Bernoulli\n",
    "\n",
    "5. Give examples of the following distributions: Discrete Uniform, Bernoulli, Binomial, and Poisson.\n",
    "    \n",
    "6. Give examples of the following distributions: Continuous Uniform, Exponential, Normal.   \n",
    "    \n",
    "7. State the central limit theorem"
   ]
  },
  {
   "cell_type": "code",
   "execution_count": null,
   "metadata": {
    "collapsed": true
   },
   "outputs": [],
   "source": [
    "1. Iterables\n",
    "While iterables are sometimes interchangeable, it's important to note slight differences between them, as well as default behaviors.\n",
    "\n",
    "Lists\n",
    "Mutable\n",
    "Indexed with numbers\n",
    "Ordered\n",
    "Can contain multiple types, as well as redundant values\n",
    "\n",
    "Tuples\n",
    "Immutable\n",
    "Indexed with numbers\n",
    "Ordered\n",
    "Can contain multiple types, as well as redundant values\n",
    "\n",
    "Dictionaries\n",
    "Unordered\n",
    "values accessed by keys\n",
    "keys must be unique\n",
    "values are mutable, but keys are not\n",
    "\n",
    "Sets\n",
    "Mutable\n",
    "Cannot be indexed\n",
    "Unordered\n",
    "All elements are unique"
   ]
  },
  {
   "cell_type": "code",
   "execution_count": null,
   "metadata": {
    "collapsed": true
   },
   "outputs": [],
   "source": [
    "2. \n",
    "Discrete vs. Continuous random variables\n",
    "\n",
    "Discrete\n",
    "All outcomes of a random variable could be counted.\n",
    "The distribution of probabilities of each specific outcome is called the probability mass function (pmf).\n",
    "\n",
    "Continuous\n",
    "Have outcomes that are uncountable (or infinite).\n",
    "The probabilities of ranges of values are calculated as areas under the probability density function (pdf)."
   ]
  },
  {
   "cell_type": "code",
   "execution_count": null,
   "metadata": {
    "collapsed": true
   },
   "outputs": [],
   "source": []
  }
 ],
 "metadata": {
  "kernelspec": {
   "display_name": "Python 3",
   "language": "python",
   "name": "python3"
  },
  "language_info": {
   "codemirror_mode": {
    "name": "ipython",
    "version": 3
   },
   "file_extension": ".py",
   "mimetype": "text/x-python",
   "name": "python",
   "nbconvert_exporter": "python",
   "pygments_lexer": "ipython3",
   "version": "3.6.1"
  }
 },
 "nbformat": 4,
 "nbformat_minor": 2
}
