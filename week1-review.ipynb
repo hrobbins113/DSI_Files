{
 "cells": [
  {
   "cell_type": "code",
   "execution_count": 1,
   "metadata": {},
   "outputs": [
    {
     "data": {
      "text/plain": [
       "{'charmander': 'fire type',\n",
       " 'geodude': 'rock type',\n",
       " 'jigglypuff': 'sleep write your face type',\n",
       " 'pikachu': 'electric type'}"
      ]
     },
     "execution_count": 1,
     "metadata": {},
     "output_type": "execute_result"
    }
   ],
   "source": [
    "pokedex = {\n",
    "    \"pikachu\": \"electric type\",\n",
    "    \"charmander\": \"fire type\",\n",
    "    \"geodude\": \"rock type\",\n",
    "    \"jigglypuff\": \"sleep write your face type\"\n",
    "}\n",
    "\n",
    "pokedex"
   ]
  },
  {
   "cell_type": "code",
   "execution_count": 2,
   "metadata": {},
   "outputs": [
    {
     "name": "stdout",
     "output_type": "stream",
     "text": [
      "pikachu\n",
      "charmander\n",
      "geodude\n",
      "jigglypuff\n"
     ]
    }
   ],
   "source": [
    "for key in pokedex:\n",
    "    print(key)"
   ]
  },
  {
   "cell_type": "code",
   "execution_count": 3,
   "metadata": {},
   "outputs": [
    {
     "name": "stdout",
     "output_type": "stream",
     "text": [
      "electric type\n",
      "fire type\n",
      "rock type\n",
      "sleep write your face type\n"
     ]
    }
   ],
   "source": [
    "for value in pokedex.values():\n",
    "    print(value)"
   ]
  },
  {
   "cell_type": "code",
   "execution_count": 4,
   "metadata": {},
   "outputs": [],
   "source": [
    "key, value = (\"pikachu\", \"electric type\")\n",
    "\n"
   ]
  },
  {
   "cell_type": "code",
   "execution_count": 7,
   "metadata": {
    "scrolled": true
   },
   "outputs": [
    {
     "data": {
      "text/plain": [
       "dict_items([('pikachu', 'electric type'), ('charmander', 'fire type'), ('geodude', 'rock type'), ('jigglypuff', 'sleep write your face type')])"
      ]
     },
     "execution_count": 7,
     "metadata": {},
     "output_type": "execute_result"
    }
   ],
   "source": [
    "pokedex.items()"
   ]
  },
  {
   "cell_type": "code",
   "execution_count": 9,
   "metadata": {},
   "outputs": [
    {
     "data": {
      "text/plain": [
       "{'charmander': 'fire type',\n",
       " 'geodude': 'rock type',\n",
       " 'jigglypuff': 'sleep write your face type',\n",
       " 'pikachu': 'electric type'}"
      ]
     },
     "execution_count": 9,
     "metadata": {},
     "output_type": "execute_result"
    }
   ],
   "source": [
    "pokedex"
   ]
  },
  {
   "cell_type": "code",
   "execution_count": 12,
   "metadata": {},
   "outputs": [
    {
     "name": "stdout",
     "output_type": "stream",
     "text": [
      "pikachu\n",
      "electric type\n",
      "charmander\n",
      "fire type\n",
      "geodude\n",
      "rock type\n",
      "jigglypuff\n",
      "sleep write your face type\n"
     ]
    }
   ],
   "source": [
    "for key, value in pokedex.items():\n",
    "    print(key)\n",
    "    print(value)"
   ]
  },
  {
   "cell_type": "code",
   "execution_count": 14,
   "metadata": {},
   "outputs": [
    {
     "data": {
      "text/plain": [
       "[('pikachu', 'electric type'),\n",
       " ('charmander', 'fire type'),\n",
       " ('geodude', 'rock type'),\n",
       " ('jigglypuff', 'sleep write your face type')]"
      ]
     },
     "execution_count": 14,
     "metadata": {},
     "output_type": "execute_result"
    }
   ],
   "source": [
    "list(pokedex.items())"
   ]
  },
  {
   "cell_type": "code",
   "execution_count": 17,
   "metadata": {},
   "outputs": [
    {
     "name": "stdout",
     "output_type": "stream",
     "text": [
      "jigglypuff\n",
      "sleep write your face type\n"
     ]
    }
   ],
   "source": [
    "print(key)\n",
    "print(value)"
   ]
  },
  {
   "cell_type": "code",
   "execution_count": 18,
   "metadata": {},
   "outputs": [
    {
     "name": "stdout",
     "output_type": "stream",
     "text": [
      "key: pikachu value: electric type\n",
      "key: charmander value: fire type\n",
      "key: geodude value: rock type\n",
      "key: jigglypuff value: sleep write your face type\n"
     ]
    }
   ],
   "source": [
    "for key, value in pokedex.items():\n",
    "    print(\"key:\", key, \"value:\", value)"
   ]
  },
  {
   "cell_type": "code",
   "execution_count": 20,
   "metadata": {},
   "outputs": [
    {
     "data": {
      "text/plain": [
       "[('pikachu', 'electric type'),\n",
       " ('charmander', 'fire type'),\n",
       " ('geodude', 'rock type'),\n",
       " ('jigglypuff', 'sleep write your face type')]"
      ]
     },
     "execution_count": 20,
     "metadata": {},
     "output_type": "execute_result"
    }
   ],
   "source": [
    "### Quick review list comprehension\n",
    "pokelist = list(pokedex.items())\n",
    "pokelist"
   ]
  },
  {
   "cell_type": "code",
   "execution_count": 26,
   "metadata": {},
   "outputs": [
    {
     "name": "stdout",
     "output_type": "stream",
     "text": [
      "electric type\n",
      "fire type\n",
      "rock type\n",
      "sleep write your face type\n"
     ]
    }
   ],
   "source": [
    "for key, value in pokelist:\n",
    "    print(value)\n"
   ]
  },
  {
   "cell_type": "code",
   "execution_count": 30,
   "metadata": {},
   "outputs": [
    {
     "data": {
      "text/plain": [
       "[('ELECTRIC TYPE', 'pikachu'),\n",
       " ('FIRE TYPE', 'charmander'),\n",
       " ('ROCK TYPE', 'geodude'),\n",
       " ('SLEEP WRITE YOUR FACE TYPE', 'jigglypuff')]"
      ]
     },
     "execution_count": 30,
     "metadata": {},
     "output_type": "execute_result"
    }
   ],
   "source": [
    "new_list = []\n",
    "for key, value in pokelist:\n",
    "    new_list.append((value.upper(), key))\n",
    "\n",
    "new_list"
   ]
  },
  {
   "cell_type": "code",
   "execution_count": 19,
   "metadata": {
    "scrolled": true
   },
   "outputs": [
    {
     "data": {
      "text/plain": [
       "[['ELECTRIC TYPE', 'pikachu'],\n",
       " ['FIRE TYPE', 'charmander'],\n",
       " ['ROCK TYPE', 'geodude'],\n",
       " ['SLEEP WRITE YOUR FACE TYPE', 'jigglypuff']]"
      ]
     },
     "execution_count": 19,
     "metadata": {},
     "output_type": "execute_result"
    }
   ],
   "source": [
    "[[value.upper(), key] for key, value in pokelist]"
   ]
  },
  {
   "cell_type": "code",
   "execution_count": 51,
   "metadata": {
    "scrolled": true
   },
   "outputs": [
    {
     "data": {
      "text/plain": [
       "{'CHARMANDER': 'fire type',\n",
       " 'GEODUDE': 'rock type',\n",
       " 'JIGGLYPUFF': 'sleep write your face type',\n",
       " 'PIKACHU': 'electric type'}"
      ]
     },
     "execution_count": 51,
     "metadata": {},
     "output_type": "execute_result"
    }
   ],
   "source": [
    "new_dict = {}\n",
    "for key, value in pokelist:\n",
    "    new_dict[key.upper()] = value\n",
    "    \n",
    "new_dict   \n",
    "\n",
    "#*Check Dave's video for deetz"
   ]
  },
  {
   "cell_type": "code",
   "execution_count": 33,
   "metadata": {},
   "outputs": [
    {
     "data": {
      "text/plain": [
       "[('pikachu', 'electric type'),\n",
       " ('charmander', 'fire type'),\n",
       " ('geodude', 'rock type'),\n",
       " ('jigglypuff', 'sleep write your face type')]"
      ]
     },
     "execution_count": 33,
     "metadata": {},
     "output_type": "execute_result"
    }
   ],
   "source": [
    "pokelist"
   ]
  },
  {
   "cell_type": "code",
   "execution_count": 32,
   "metadata": {},
   "outputs": [
    {
     "data": {
      "text/plain": [
       "{'electric type': 'PIKACHU',\n",
       " 'fire type': 'CHARMANDER',\n",
       " 'rock type': 'GEODUDE',\n",
       " 'sleep write your face type': 'JIGGLYPUFF'}"
      ]
     },
     "execution_count": 32,
     "metadata": {},
     "output_type": "execute_result"
    }
   ],
   "source": [
    "{value: key.upper() for key, value in pokelist}"
   ]
  },
  {
   "cell_type": "code",
   "execution_count": 34,
   "metadata": {
    "scrolled": true
   },
   "outputs": [
    {
     "data": {
      "text/plain": [
       "{'electric type': 'pikachu',\n",
       " 'fire type': 'charmander',\n",
       " 'rock type': 'geodude',\n",
       " 'sleep write your face type': 'jigglypuff'}"
      ]
     },
     "execution_count": 34,
     "metadata": {},
     "output_type": "execute_result"
    }
   ],
   "source": [
    "{value: key for key, value in pokedex.items()}"
   ]
  },
  {
   "cell_type": "code",
   "execution_count": 37,
   "metadata": {},
   "outputs": [
    {
     "data": {
      "text/plain": [
       "'blablalbla'"
      ]
     },
     "execution_count": 37,
     "metadata": {},
     "output_type": "execute_result"
    }
   ],
   "source": [
    "pokemon"
   ]
  },
  {
   "cell_type": "code",
   "execution_count": 47,
   "metadata": {},
   "outputs": [
    {
     "name": "stdout",
     "output_type": "stream",
     "text": [
      "Pokemon:  pikachu\n",
      "Pokemon Type:  electric\n",
      "Additional Options: {}\n"
     ]
    },
    {
     "data": {
      "text/plain": [
       "'pikachu-electric'"
      ]
     },
     "execution_count": 47,
     "metadata": {},
     "output_type": "execute_result"
    }
   ],
   "source": [
    "pokemon = \"blablalbla\"\n",
    "\n",
    "def combine_pokemon(pokemon = \"Default\", poketype = \"Default\", **options):\n",
    "    print(\"Pokemon: \", pokemon)\n",
    "    print(\"Pokemon Type: \", poketype)\n",
    "    print(\"Additional Options:\", options)\n",
    "    return pokemon + \"-\" + poketype\n",
    "    \n",
    "combine_pokemon(\"pikachu\", \"electric\")"
   ]
  },
  {
   "cell_type": "code",
   "execution_count": 63,
   "metadata": {},
   "outputs": [
    {
     "data": {
      "text/plain": [
       "{'pikachu': 'pikachu-electric type',\n",
       " 'charmander': 'charmander-fire type',\n",
       " 'geodude': 'geodude-rock type',\n",
       " 'jigglypuff': 'jigglypuff-sleep write your face type'}"
      ]
     },
     "execution_count": 63,
     "metadata": {},
     "output_type": "execute_result"
    }
   ],
   "source": [
    "{key: combine_pokemon(key, value) for key, value in pokedex.items()}"
   ]
  },
  {
   "cell_type": "code",
   "execution_count": null,
   "metadata": {
    "collapsed": true
   },
   "outputs": [],
   "source": []
  }
 ],
 "metadata": {
  "kernelspec": {
   "display_name": "Python 3",
   "language": "python",
   "name": "python3"
  },
  "language_info": {
   "codemirror_mode": {
    "name": "ipython",
    "version": 3
   },
   "file_extension": ".py",
   "mimetype": "text/x-python",
   "name": "python",
   "nbconvert_exporter": "python",
   "pygments_lexer": "ipython3",
   "version": "3.6.1"
  }
 },
 "nbformat": 4,
 "nbformat_minor": 2
}
