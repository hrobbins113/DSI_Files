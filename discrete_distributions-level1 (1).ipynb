{
 "cells": [
  {
   "cell_type": "markdown",
   "metadata": {},
   "source": [
    "<img src=\"https://ga-dash.s3.amazonaws.com/production/assets/logo-9f88ae6c9c3871690e33280fcf557f33.png\" style=\"float: left; margin: 15px;\">\n",
    "\n",
    "## Random Variables & Discrete Probability Distributions\n",
    "\n"
   ]
  },
  {
   "cell_type": "markdown",
   "metadata": {},
   "source": [
    "### LEARNING OBJECTIVES\n",
    "By the end of this lesson, students should be able to:\n",
    "- Define distribution and random variable.\n",
    "- Describe the difference between discrete and continuous random variables.\n",
    "- Understand the difference between probability mass functions and cumulative density functions.\n",
    "- Give examples of the following distributions: Discrete Uniform, Bernoulli, Binomial, and Poisson."
   ]
  },
  {
   "cell_type": "markdown",
   "metadata": {},
   "source": [
    "## Definitions\n",
    "\n",
    "---\n",
    "\n",
    "An **experiment** is an infinitely-repeatable procedure with a [well-defined](https://en.wikipedia.org/wiki/Well-defined) set of outcomes.\n",
    "- I flip a coin twice.\n",
    "- I roll a die once.\n",
    "\n",
    "The **sample space** for a given experiment is the set of all possible outcomes of that experiment.\n",
    "- I flip a coin twice: $\\{\\{H,H\\}, \\{T,H\\}, \\{H,T\\}, \\{T,T\\}\\}$\n",
    "- I roll a die once: $\\{1, 2, 3, 4, 5, 6\\}$\n",
    "\n",
    "A **random variable** is a function from a sample space $S$ to the real numbers.\n",
    "- Let $X$ be the number of heads I observe. Then, $X$ can take on the values 0, 1, or 2.\n",
    "- I roll a die **once**. Then, $Y$ can take on the values 1, 2, 3, 4, 5, 6.\n",
    "\n",
    "There are two categories of random variables: **discrete random variables** and **continuous random variables**.\n",
    "\n",
    "### Discrete random variables\n",
    "\n",
    "Discrete random variables have outcomes which are \"countable\". The two examples of random variables used above are discrete because I can list out all values of the random variable.\n",
    "\n",
    "The number of heads in a series of coin flips, for example, or the number of aces drawn in a series of hands from a deck of cards. Each discrete outcome has an associated probability of occurring.\n",
    "\n",
    "For discrete random variables, the distribution of the probabilities of each outcome is called the **probability mass function (pmf)**.\n",
    "\n",
    "### Continuous random variables\n",
    "\n",
    "Continuous random variables, on the other hand, have outcomes which are not countable. Say, for example, $T$ is a random variable representing the temperature at noon. There are not exact temperature outcomes with associated probabilities of occurrence – the number of outcomes is infinite. The probabilities of _ranges of values_ are calculated as areas under the **probability density function (pdf)**, which is the probability function associated with continuous variables.\n",
    "\n",
    "## Recap\n",
    "1. We first run an experiment.\n",
    "2. We then observe results of the experiment.\n",
    "3. Our random variable $X$ will map the results of the experiment to a real number.\n",
    "4. We will then study the **distribution** of $X$.\n",
    "\n",
    "**Check:** What is a distribution?"
   ]
  },
  {
   "cell_type": "markdown",
   "metadata": {},
   "source": [
    "### Importing libraries\n",
    "\n",
    "For this lecture, we'll need to import the following libraries:\n",
    "- `numpy`, which we'll alias as `np`\n",
    "- `matplotlib.pyplot`, which we'll alias as `plt`\n",
    "- `scipy.stats`, which we'll alias as `stats`\n",
    "\n",
    "You'll also need to add the matplotlib magic command (`%matplotlib inline`), which will allow us to see our charts without having to use the `.show()` method all the time."
   ]
  },
  {
   "cell_type": "code",
   "execution_count": 3,
   "metadata": {
    "collapsed": true
   },
   "outputs": [],
   "source": [
    "import numpy as np\n",
    "import matplotlib.pyplot as plt\n",
    "import scipy.stats as stats\n",
    "%matplotlib inline"
   ]
  },
  {
   "cell_type": "markdown",
   "metadata": {},
   "source": [
    "# Discrete Distributions!\n",
    "\n",
    "## The discrete uniform distribution\n",
    "\n",
    "---\n",
    "\n",
    "**Example**: I roll a fair die once. What is the distribution of outcomes?\n",
    "\n",
    "The **discrete uniform distribution** is used when we have a **discrete set of outcomes** and **each outcome is equally likely**.\n",
    "\n",
    "For example, imagine we roll a fair die. The outcome of rolling the die is represented by a random variable $X$, which can take on values 1 through 6.\n",
    "\n",
    "The probability mass function $f$ over the six possible outcomes $x$, each with an associated probability $p$, is defined as:\n",
    "\n",
    "$$  f(x|p) =\n",
    "    \\begin{cases}\n",
    "    1/6 & \\text{for }x=1 \\\\ \n",
    "    1/6 & \\text{for }x=2 \\\\\n",
    "    1/6 & \\text{for }x=3 \\\\\n",
    "    1/6 & \\text{for }x=4 \\\\\n",
    "    1/6 & \\text{for }x=5 \\\\\n",
    "    1/6 & \\text{for }x=6 \\\\\n",
    "    0 & \\text{elsewhere } \\\\\n",
    "    \\end{cases}\n",
    "$$\n",
    "\n",
    "This is an example of the **discrete uniform distribution** because all of the outcomes have the same probability. \n",
    "\n",
    "If you plot the probability mass function (often abbreviated $pmf$), you can see that the probability histogram is uniform (flat)."
   ]
  },
  {
   "cell_type": "code",
   "execution_count": 7,
   "metadata": {},
   "outputs": [
    {
     "data": {
      "text/plain": [
       "[1, 2, 3, 4, 5, 6]"
      ]
     },
     "execution_count": 7,
     "metadata": {},
     "output_type": "execute_result"
    }
   ],
   "source": [
    "#random variable\n",
    "\n",
    "possible_sides = list(range(1,7))\n",
    "possible_sides"
   ]
  },
  {
   "cell_type": "code",
   "execution_count": 8,
   "metadata": {
    "scrolled": true
   },
   "outputs": [
    {
     "data": {
      "text/plain": [
       "[0.16666666666666666,\n",
       " 0.16666666666666666,\n",
       " 0.16666666666666666,\n",
       " 0.16666666666666666,\n",
       " 0.16666666666666666,\n",
       " 0.16666666666666666]"
      ]
     },
     "execution_count": 8,
     "metadata": {},
     "output_type": "execute_result"
    }
   ],
   "source": [
    "die_probs = [1/6 for side in possible_sides]\n",
    "die_probs"
   ]
  },
  {
   "cell_type": "code",
   "execution_count": 13,
   "metadata": {},
   "outputs": [
    {
     "data": {
      "image/png": "[encoded data removed]",
      "text/plain": [
       "<matplotlib.figure.Figure at 0x11e10c518>"
      ]
     },
     "metadata": {},
     "output_type": "display_data"
    }
   ],
   "source": [
    "#PLOT PMF:\n",
    "    \n",
    "plt.figure(figsize = (7, 4))\n",
    "\n",
    "plt.bar(possible_sides, die_probs)    #plt.bar(x, y)\n",
    "plt.show()\n",
    "\n",
    "#For discrete random variables, \n",
    "#the distribution of the probabilities of each outcome is called the probability mass function (pmf)."
   ]
  },
  {
   "cell_type": "markdown",
   "metadata": {},
   "source": [
    "#### The cumulative distribution function (CDF)\n",
    "\n",
    "Continuing with the die example, we can also plot out the **cumulative probability** of our six outcomes. This is known as the **cumulative distribution function** (often abbreviated $cdf$). We can get this by starting at the minimum possible outcome, then add the probability of each outcome. Thus, each point on a cumulative distribution function represents the probability that a random variable is less than or equal to that value.\n",
    "\n",
    "In a formula, if the $pdf$ is given by $f(x) = P(X = x)$, we write the $cdf$ as $F(x) = P(X \\leq x)$."
   ]
  },
  {
   "cell_type": "code",
   "execution_count": 14,
   "metadata": {},
   "outputs": [
    {
     "data": {
      "text/plain": [
       "array([ 1,  3,  6, 10])"
      ]
     },
     "execution_count": 14,
     "metadata": {},
     "output_type": "execute_result"
    }
   ],
   "source": [
    "numbs = [1, 2, 3, 4]\n",
    "np.cumsum(numbs)"
   ]
  },
  {
   "cell_type": "code",
   "execution_count": 15,
   "metadata": {
    "scrolled": true
   },
   "outputs": [
    {
     "data": {
      "text/plain": [
       "array([ 0.16666667,  0.33333333,  0.5       ,  0.66666667,  0.83333333,  1.        ])"
      ]
     },
     "execution_count": 15,
     "metadata": {},
     "output_type": "execute_result"
    }
   ],
   "source": [
    "np.cumsum(die_probs)"
   ]
  },
  {
   "cell_type": "code",
   "execution_count": 21,
   "metadata": {},
   "outputs": [
    {
     "data": {
      "image/png": "[encoded data removed]",
      "text/plain": [
       "<matplotlib.figure.Figure at 0x11e36f1d0>"
      ]
     },
     "metadata": {},
     "output_type": "display_data"
    }
   ],
   "source": [
    "# PLOT CDF:\n",
    "\n",
    "plt.figure(figsize = (7, 4))\n",
    "plt.step(possible_sides, np.cumsum(die_probs))\n",
    "plt.show()"
   ]
  },
  {
   "cell_type": "code",
   "execution_count": null,
   "metadata": {
    "collapsed": true
   },
   "outputs": [],
   "source": []
  },
  {
   "cell_type": "code",
   "execution_count": null,
   "metadata": {
    "collapsed": true
   },
   "outputs": [],
   "source": []
  },
  {
   "cell_type": "markdown",
   "metadata": {},
   "source": [
    "We can simultaneously visualize the probability density/mass function and the cumulative distribution function [here](http://students.brown.edu/seeing-theory/)."
   ]
  },
  {
   "cell_type": "markdown",
   "metadata": {},
   "source": [
    "### Practice: Deck of cards\n",
    "---\n",
    "\n",
    "There are 52 cards in a typical deck. Plot the probability mass function (pmf) of drawing a single card from the deck. (It's fine if your x-axis is labeled 1-52)"
   ]
  },
  {
   "cell_type": "code",
   "execution_count": 29,
   "metadata": {
    "scrolled": false
   },
   "outputs": [
    {
     "data": {
      "text/plain": [
       "<Container object of 52 artists>"
      ]
     },
     "execution_count": 29,
     "metadata": {},
     "output_type": "execute_result"
    },
    {
     "data": {
      "image/png": "[encoded data removed]",
      "text/plain": [
       "<matplotlib.figure.Figure at 0x11e1de438>"
      ]
     },
     "metadata": {},
     "output_type": "display_data"
    }
   ],
   "source": [
    "#this is your random variable - your x axis\n",
    "cards = list(range(1, 53))\n",
    "# cards    \n",
    "\n",
    "card_probs = [1/52 for c in cards]\n",
    "\n",
    "plt.bar(cards, card_probs)"
   ]
  },
  {
   "cell_type": "markdown",
   "metadata": {},
   "source": [
    "There are 13 possible values in a deck of cards (Ace, 2, 3, 4, ...). Plot a **cumulative** distribution of all 13 outcomes.\n",
    "\n",
    "It's ok to represent face cards (Jack, Queen, King) with numerical values (ie 11, 12, 13)"
   ]
  },
  {
   "cell_type": "code",
   "execution_count": 32,
   "metadata": {
    "collapsed": true
   },
   "outputs": [],
   "source": [
    "#this is your random variable (your x variable)\n",
    "\n",
    "card_values = list(range(1, 14))\n",
    "card_value_probs = [1/13 for v in card_values]"
   ]
  },
  {
   "cell_type": "code",
   "execution_count": 34,
   "metadata": {
    "scrolled": true
   },
   "outputs": [
    {
     "data": {
      "text/plain": [
       "array([ 0.07692308,  0.15384615,  0.23076923,  0.30769231,  0.38461538,\n",
       "        0.46153846,  0.53846154,  0.61538462,  0.69230769,  0.76923077,\n",
       "        0.84615385,  0.92307692,  1.        ])"
      ]
     },
     "execution_count": 34,
     "metadata": {},
     "output_type": "execute_result"
    }
   ],
   "source": [
    "card_value_probs_cumulative = np.cumsum(card_value_probs)\n",
    "card_value_probs_cumulative  #(your y value)"
   ]
  },
  {
   "cell_type": "code",
   "execution_count": 35,
   "metadata": {},
   "outputs": [
    {
     "data": {
      "text/plain": [
       "[<matplotlib.lines.Line2D at 0x11f00dd68>]"
      ]
     },
     "execution_count": 35,
     "metadata": {},
     "output_type": "execute_result"
    },
    {
     "data": {
      "image/png": "[encoded data removed]",
      "text/plain": [
       "<matplotlib.figure.Figure at 0x11e86db70>"
      ]
     },
     "metadata": {},
     "output_type": "display_data"
    }
   ],
   "source": [
    "plt.step(card_values, card_value_probs_cumulative)"
   ]
  },
  {
   "cell_type": "markdown",
   "metadata": {},
   "source": [
    "## The Bernoulli distribution\n",
    "\n",
    "---\n",
    "\n",
    "**Example**: I flip a coin with some fixed probability of success $p$. What's the likelihood that I flip heads?\n",
    "\n",
    "When to use this distribution:\n",
    "\n",
    "- When your outcome is binary (i.e., two outcomes, say, `1 = success` and `0 = failure`)\n",
    "- When there is a constant probability of success $p$.\n",
    "\n",
    "Parameters of this distribution:\n",
    "\n",
    "- probability of success $p$\n",
    "\n",
    "Some common examples of a Bernoulli random variable:\n",
    "\n",
    "- A coin flip.\n",
    "- Whether or not it will rain tomorrow.\n",
    "- Whether a user will buy your product after visiting your website.\n",
    "\n",
    "Bernoulli distributed variables are very common and will appear continually throughout the course, especially in   classification.\n",
    "\n",
    "#### Bernoulli pmf\n",
    "\n",
    "The probability mass function $f$ for outcomes $x$ and probabilities $p$ is:\n",
    "\n",
    "$$  f(x|p) =\n",
    "    \\begin{cases}\n",
    "    p & \\text{for }x=1 \\\\\n",
    "    1-p & \\text{for }x=0 \\\\ \n",
    "    0 & \\text{elsewhere} \\\\\n",
    "    \\end{cases}\n",
    "$$\n",
    "\n",
    "Below is a pdf where $p = 0.25$, an unfair coin-flip."
   ]
  },
  {
   "cell_type": "code",
   "execution_count": 36,
   "metadata": {
    "collapsed": true
   },
   "outputs": [],
   "source": [
    "# Bernoulli has to be binary, has to have a constant probablility of success and only looking at one experiment)\n",
    "\n",
    "coin_outcomes = [0, 1]\n",
    "coin_probs = [1 - 0.25, 0.25]"
   ]
  },
  {
   "cell_type": "code",
   "execution_count": 37,
   "metadata": {},
   "outputs": [
    {
     "data": {
      "text/plain": [
       "<Container object of 2 artists>"
      ]
     },
     "execution_count": 37,
     "metadata": {},
     "output_type": "execute_result"
    },
    {
     "data": {
      "image/png": "[encoded data removed]",
      "text/plain": [
       "<matplotlib.figure.Figure at 0x11f009cc0>"
      ]
     },
     "metadata": {},
     "output_type": "display_data"
    }
   ],
   "source": [
    "plt.bar(coin_outcomes, coin_probs)"
   ]
  },
  {
   "cell_type": "markdown",
   "metadata": {},
   "source": [
    "#### Bernoulli CDF\n",
    "\n",
    "Its cumulative distribution function is also defined as a function of $x$ outcomes with $p$ probabilities:\n",
    "\n",
    "$$ F(x|p) =\n",
    "\\begin{cases}\n",
    "    0 & \\text{for }x<0 \\\\ 1 - p & \\text{for }0 \\leq x < 1 \\\\ 1 & \\text{for }x\\geq 1\n",
    "\\end{cases} $$"
   ]
  },
  {
   "cell_type": "code",
   "execution_count": 38,
   "metadata": {},
   "outputs": [
    {
     "data": {
      "text/plain": [
       "[0, 1]"
      ]
     },
     "execution_count": 38,
     "metadata": {},
     "output_type": "execute_result"
    }
   ],
   "source": [
    "coin_outcomes"
   ]
  },
  {
   "cell_type": "code",
   "execution_count": 39,
   "metadata": {
    "scrolled": true
   },
   "outputs": [
    {
     "data": {
      "text/plain": [
       "[0.75, 0.25]"
      ]
     },
     "execution_count": 39,
     "metadata": {},
     "output_type": "execute_result"
    }
   ],
   "source": [
    "coin_probs"
   ]
  },
  {
   "cell_type": "code",
   "execution_count": 40,
   "metadata": {},
   "outputs": [
    {
     "data": {
      "text/plain": [
       "[<matplotlib.lines.Line2D at 0x11f0a1518>]"
      ]
     },
     "execution_count": 40,
     "metadata": {},
     "output_type": "execute_result"
    },
    {
     "data": {
      "image/png": "[encoded data removed]",
      "text/plain": [
       "<matplotlib.figure.Figure at 0x11f003cc0>"
      ]
     },
     "metadata": {},
     "output_type": "display_data"
    }
   ],
   "source": [
    "plt.step(coin_outcomes, np.cumsum(coin_probs))"
   ]
  },
  {
   "cell_type": "markdown",
   "metadata": {},
   "source": [
    "### Practice: Election outcomes\n",
    "---\n",
    "\n",
    "Candidate A is ahead in the polls. She has a 63% chance of winning the election. Plot the Bernoulli distribution of Candidate A's chances as a bar chart."
   ]
  },
  {
   "cell_type": "code",
   "execution_count": 42,
   "metadata": {
    "collapsed": true
   },
   "outputs": [],
   "source": [
    "#create your random variable - either she wins or doesn't win\n",
    "\n",
    "election_outcomes = [0, 1]"
   ]
  },
  {
   "cell_type": "code",
   "execution_count": 43,
   "metadata": {
    "collapsed": true
   },
   "outputs": [],
   "source": [
    "election_probs = [(1-.63), 0.63]"
   ]
  },
  {
   "cell_type": "code",
   "execution_count": 44,
   "metadata": {
    "scrolled": true
   },
   "outputs": [
    {
     "data": {
      "text/plain": [
       "<Container object of 2 artists>"
      ]
     },
     "execution_count": 44,
     "metadata": {},
     "output_type": "execute_result"
    },
    {
     "data": {
      "image/png": "[encoded data removed]",
      "text/plain": [
       "<matplotlib.figure.Figure at 0x11f0adcc0>"
      ]
     },
     "metadata": {},
     "output_type": "display_data"
    }
   ],
   "source": [
    "plt.bar(election_outcomes, election_probs)"
   ]
  },
  {
   "cell_type": "code",
   "execution_count": 50,
   "metadata": {},
   "outputs": [
    {
     "data": {
      "image/png": "[encoded data removed]",
      "text/plain": [
       "<matplotlib.figure.Figure at 0x11f06bb38>"
      ]
     },
     "metadata": {},
     "output_type": "display_data"
    }
   ],
   "source": [
    "width = 0.35  # the width of the bars\n",
    "\n",
    "fig, ax = plt.subplots()\n"
   ]
  },
  {
   "cell_type": "markdown",
   "metadata": {},
   "source": [
    "<a id='bernoulli'></a>\n",
    "\n",
    "## The Binomial distribution\n",
    "\n",
    "---\n",
    "\n",
    "**Example**: I flip a coin with some fixed probability of success $p$. I flip the same coin $k$ times. What is the proability of getting a certain number of heads?\n",
    "\n",
    "The binomial distribution is directly related to the Bernoulli distribution: it is **the sum of successes of a Bernoulli distributed random variable.**\n",
    "\n",
    "When it's used:\n",
    "\n",
    "- when you have fixed $n$ independent Bernoulli trials.\n",
    "\n",
    "More explicitly:\n",
    "\n",
    "- when you have fixed $n$ trials,\n",
    "- each trial is independent of one another,\n",
    "- when you have a constant probability of success $p$, and\n",
    "- when you have a binary outcome.\n",
    "\n",
    "Parameters of the distribution:\n",
    "\n",
    "- probability of success $p$\n",
    "- number of trials $n$\n",
    " \n",
    "\n",
    "#### Binomial pmf\n",
    "\n",
    "The $pmf$ is a function of $n$ trials with $p$ probability of success and $x$ successes in those trials:\n",
    "\n",
    "$$ f(x|n,p) = P(X = x) = \\binom n x  p^x(1-p)^{n-x} $$\n",
    "\n",
    "Which describes the probability that there will be $x$ successes in $n$ trials.\n",
    "\n",
    "Below is the binomial pmf for 50 coin flips of a coin with probability of getting heads at 25%.\n"
   ]
  },
  {
   "cell_type": "code",
   "execution_count": 51,
   "metadata": {
    "collapsed": true
   },
   "outputs": [],
   "source": [
    "#set up random variable - x value\n",
    "\n",
    "possible_heads = list(range(0, 51))"
   ]
  },
  {
   "cell_type": "code",
   "execution_count": 52,
   "metadata": {},
   "outputs": [
    {
     "data": {
      "text/plain": [
       "5.663216564269376e-07"
      ]
     },
     "execution_count": 52,
     "metadata": {},
     "output_type": "execute_result"
    }
   ],
   "source": [
    "#now want probablity of each possible outcome\n",
    "# what is the probablity of hitting heads 0 times out of 50 coin flips with an unfair coin?\n",
    "0.75 ** 50"
   ]
  },
  {
   "cell_type": "code",
   "execution_count": 55,
   "metadata": {},
   "outputs": [
    {
     "data": {
      "text/plain": [
       "1.8877388547564587e-07"
      ]
     },
     "execution_count": 55,
     "metadata": {},
     "output_type": "execute_result"
    }
   ],
   "source": [
    "# probability of getting heads once in 50 flips\n",
    "\n",
    "0.75 **49 *.25 **1"
   ]
  },
  {
   "cell_type": "code",
   "execution_count": 56,
   "metadata": {
    "collapsed": true
   },
   "outputs": [],
   "source": [
    "n_flips = 50\n",
    "p_heads = 0.25"
   ]
  },
  {
   "cell_type": "code",
   "execution_count": 57,
   "metadata": {
    "collapsed": true
   },
   "outputs": [],
   "source": [
    "coin_dist = stats.binom(n_flips, p_heads)"
   ]
  },
  {
   "cell_type": "code",
   "execution_count": 58,
   "metadata": {
    "scrolled": true
   },
   "outputs": [
    {
     "data": {
      "text/plain": [
       "array([  5.66321656e-07,   9.43869427e-06,   7.70826699e-05,\n",
       "         4.11107573e-04,   1.61017133e-03,   4.93785874e-03,\n",
       "         1.23446468e-02,   2.58649743e-02,   4.63414123e-02,\n",
       "         7.20866414e-02,   9.85184099e-02,   1.19416254e-01,\n",
       "         1.29367609e-01,   1.26050491e-01,   1.11044480e-01,\n",
       "         8.88355840e-02,   6.47759467e-02,   4.31839645e-02,\n",
       "         2.63902005e-02,   1.48155512e-02,   7.65470143e-03,\n",
       "         3.64509592e-03,   1.60163306e-03,   6.49938052e-04,\n",
       "         2.43726769e-04,   8.44919467e-05,   2.70807521e-05,\n",
       "         8.02392656e-06,   2.19702751e-06,   5.55570175e-07,\n",
       "         1.29633041e-07,   2.78780733e-08,   5.51753534e-09,\n",
       "         1.00318824e-09,   1.67198041e-10,   2.54777967e-11,\n",
       "         3.53858287e-12,   4.46307750e-13,   5.08947434e-14,\n",
       "         5.21997368e-15,   4.78497587e-16,   3.89022429e-17,\n",
       "         2.77873163e-18,   1.72324442e-19,   9.13841740e-21,\n",
       "         4.06151884e-22,   1.47156480e-23,   4.17465191e-25,\n",
       "         8.69719148e-27,   1.18329136e-28,   7.88860905e-31])"
      ]
     },
     "execution_count": 58,
     "metadata": {},
     "output_type": "execute_result"
    }
   ],
   "source": [
    "coin_dist.pmf(possible_heads)"
   ]
  },
  {
   "cell_type": "code",
   "execution_count": 60,
   "metadata": {},
   "outputs": [
    {
     "data": {
      "text/plain": [
       "<Container object of 51 artists>"
      ]
     },
     "execution_count": 60,
     "metadata": {},
     "output_type": "execute_result"
    },
    {
     "data": {
      "image/png": "[encoded data removed]",
      "text/plain": [
       "<matplotlib.figure.Figure at 0x11e4a65f8>"
      ]
     },
     "metadata": {},
     "output_type": "display_data"
    }
   ],
   "source": [
    "plt.figure(figsize = (12, 7))\n",
    "plt.bar(possible_heads, coin_dist.pmf(possible_heads))"
   ]
  },
  {
   "cell_type": "code",
   "execution_count": null,
   "metadata": {
    "collapsed": true
   },
   "outputs": [],
   "source": []
  },
  {
   "cell_type": "code",
   "execution_count": null,
   "metadata": {
    "collapsed": true
   },
   "outputs": [],
   "source": []
  },
  {
   "cell_type": "markdown",
   "metadata": {},
   "source": [
    "**Check**: Does this \"make sense\"? Why or why not?"
   ]
  },
  {
   "cell_type": "markdown",
   "metadata": {},
   "source": [
    "#### Binomial cdf"
   ]
  },
  {
   "cell_type": "code",
   "execution_count": 63,
   "metadata": {},
   "outputs": [
    {
     "data": {
      "text/plain": [
       "[<matplotlib.lines.Line2D at 0x11ee66b00>]"
      ]
     },
     "execution_count": 63,
     "metadata": {},
     "output_type": "execute_result"
    },
    {
     "data": {
      "image/png": "[encoded data removed]",
      "text/plain": [
       "<matplotlib.figure.Figure at 0x11ed36eb8>"
      ]
     },
     "metadata": {},
     "output_type": "display_data"
    }
   ],
   "source": [
    "plt.figure(figsize= (12, 8))\n",
    "plt.step(possible_heads, coin_dist.cdf(possible_heads))"
   ]
  },
  {
   "cell_type": "markdown",
   "metadata": {},
   "source": [
    "### Practice: Elections\n",
    "---\n",
    "\n",
    "Candidate A is now leading the polls at 55%. If we survey 100 people at random, plot a **pmf** of all possible outcomes as a bar chart."
   ]
  },
  {
   "cell_type": "code",
   "execution_count": 64,
   "metadata": {
    "collapsed": true
   },
   "outputs": [],
   "source": [
    "survey_outcomes = list(range(0, 101))     #random variable, how many people are going to vote"
   ]
  },
  {
   "cell_type": "code",
   "execution_count": 67,
   "metadata": {},
   "outputs": [],
   "source": [
    "#not determine probability of every possible outcome - determine the probability of success\n",
    "\n",
    "p_candidate_a = 0.55\n",
    "n_surveys = 100\n",
    "\n"
   ]
  },
  {
   "cell_type": "code",
   "execution_count": 68,
   "metadata": {
    "collapsed": true
   },
   "outputs": [],
   "source": [
    "survey_dist = stats.binom(n_surveys, p_candidate_a)"
   ]
  },
  {
   "cell_type": "code",
   "execution_count": 69,
   "metadata": {},
   "outputs": [
    {
     "data": {
      "text/plain": [
       "<Container object of 101 artists>"
      ]
     },
     "execution_count": 69,
     "metadata": {},
     "output_type": "execute_result"
    },
    {
     "data": {
      "image/png": "[encoded data removed]",
      "text/plain": [
       "<matplotlib.figure.Figure at 0x11ed36a58>"
      ]
     },
     "metadata": {},
     "output_type": "display_data"
    }
   ],
   "source": [
    "plt.bar(survey_outcomes, survey_dist.pmf(survey_outcomes))"
   ]
  },
  {
   "cell_type": "markdown",
   "metadata": {},
   "source": [
    "Now plot the the **cumulative distribution** of all possible outcomes as a step chart."
   ]
  },
  {
   "cell_type": "code",
   "execution_count": 70,
   "metadata": {},
   "outputs": [
    {
     "data": {
      "text/plain": [
       "[<matplotlib.lines.Line2D at 0x11f710438>]"
      ]
     },
     "execution_count": 70,
     "metadata": {},
     "output_type": "execute_result"
    },
    {
     "data": {
      "image/png": "[encoded data removed]",
      "text/plain": [
       "<matplotlib.figure.Figure at 0x11ed6fb00>"
      ]
     },
     "metadata": {},
     "output_type": "display_data"
    }
   ],
   "source": [
    "plt.figure(figsize= (12, 8))\n",
    "plt.step(survey_outcomes, survey_dist.cdf(survey_outcomes))"
   ]
  },
  {
   "cell_type": "markdown",
   "metadata": {},
   "source": [
    "### Practice: Siblings\n",
    "\n",
    "---\n",
    "\n",
    "I'm the oldest of 6 kids. However, I only have one sister. Assuming a 50/50 chance of having a boy or a girl, plot the **pmf** of possible daughters as a bar chart."
   ]
  },
  {
   "cell_type": "code",
   "execution_count": 74,
   "metadata": {},
   "outputs": [],
   "source": [
    "possible_daughters = list(range(0, 7))\n",
    "p_daughter = 0.5\n",
    "n_kids = 6\n",
    "\n",
    "\n",
    "daughter_dist = stats.binom(n_kids, p_daughter)"
   ]
  },
  {
   "cell_type": "code",
   "execution_count": 76,
   "metadata": {
    "scrolled": true
   },
   "outputs": [
    {
     "data": {
      "text/plain": [
       "<Container object of 7 artists>"
      ]
     },
     "execution_count": 76,
     "metadata": {},
     "output_type": "execute_result"
    },
    {
     "data": {
      "image/png": "[encoded data removed]",
      "text/plain": [
       "<matplotlib.figure.Figure at 0x11f705be0>"
      ]
     },
     "metadata": {},
     "output_type": "display_data"
    }
   ],
   "source": [
    "plt.bar(possible_daughters, daughter_dist.pmf(possible_daughters))"
   ]
  },
  {
   "cell_type": "code",
   "execution_count": 81,
   "metadata": {},
   "outputs": [
    {
     "data": {
      "text/plain": [
       "<Container object of 83 artists>"
      ]
     },
     "execution_count": 81,
     "metadata": {},
     "output_type": "execute_result"
    },
    {
     "data": {
      "image/png": "[encoded data removed]",
      "text/plain": [
       "<matplotlib.figure.Figure at 0x11e866e10>"
      ]
     },
     "metadata": {},
     "output_type": "display_data"
    }
   ],
   "source": [
    "plt.bar(game_outcomes, game_dist.pmf(game_outcomes))"
   ]
  },
  {
   "cell_type": "markdown",
   "metadata": {},
   "source": [
    "Plot the **cdf** of the previous example as a step chart."
   ]
  },
  {
   "cell_type": "code",
   "execution_count": null,
   "metadata": {
    "collapsed": true
   },
   "outputs": [],
   "source": []
  },
  {
   "cell_type": "markdown",
   "metadata": {},
   "source": [
    "### Practice: The Spurs\n",
    "\n",
    "---\n",
    "\n",
    "The San Antonio Spurs won 57% of their games last season. There are 82 games in a season. Plot the binomial distribution of all possible outcomes as a bar chart."
   ]
  },
  {
   "cell_type": "code",
   "execution_count": 77,
   "metadata": {
    "collapsed": true
   },
   "outputs": [],
   "source": [
    "game_outcomes = list(range(0, 83))     #random variable"
   ]
  },
  {
   "cell_type": "code",
   "execution_count": 79,
   "metadata": {
    "collapsed": true
   },
   "outputs": [],
   "source": [
    "#not determine probability of every possible outcome - determine the probability of success\n",
    "\n",
    "spurs_win = 0.57\n",
    "n_games = 82"
   ]
  },
  {
   "cell_type": "code",
   "execution_count": 80,
   "metadata": {
    "collapsed": true
   },
   "outputs": [],
   "source": [
    "game_dist = stats.binom(n_games, spurs_win)"
   ]
  },
  {
   "cell_type": "code",
   "execution_count": 82,
   "metadata": {},
   "outputs": [
    {
     "data": {
      "text/plain": [
       "<Container object of 83 artists>"
      ]
     },
     "execution_count": 82,
     "metadata": {},
     "output_type": "execute_result"
    },
    {
     "data": {
      "image/png": "[encoded data removed]",
      "text/plain": [
       "<matplotlib.figure.Figure at 0x11e8350b8>"
      ]
     },
     "metadata": {},
     "output_type": "display_data"
    }
   ],
   "source": [
    "plt.bar(game_outcomes, game_dist.pmf(game_outcomes))"
   ]
  },
  {
   "cell_type": "code",
   "execution_count": null,
   "metadata": {
    "collapsed": true
   },
   "outputs": [],
   "source": []
  },
  {
   "cell_type": "code",
   "execution_count": null,
   "metadata": {
    "collapsed": true
   },
   "outputs": [],
   "source": []
  },
  {
   "cell_type": "markdown",
   "metadata": {},
   "source": [
    "Plot the **cdf** of the previous example as a step chart."
   ]
  },
  {
   "cell_type": "code",
   "execution_count": null,
   "metadata": {
    "collapsed": true
   },
   "outputs": [],
   "source": []
  },
  {
   "cell_type": "markdown",
   "metadata": {},
   "source": [
    "## The Poisson distribution\n",
    "\n",
    "---\n",
    "\n",
    "The Poisson distribution represents the counts of \"positive\" events, or successes, within a time span. It shares a relationship with Bernoulli random variables and the Binomial distribution. \n",
    "\n",
    "A Bernoulli random variable represents the probability that an event will occur during a \"trial\". Imagine we had a Bernoulli random variable that was the probability of a user visiting our site between 12pm and 1pm. If we change this to be between 12pm and 12:15pm, this remains a Bernoulli random variable but the probability has decreased. As the time frame shrinks, the probability shrinks as well.\n",
    "\n",
    "The Poisson distribution represents infinitely many infinitely small probability trials. Our number of trials $n$ increases to infinity and the probability of success $p$ shrinks towards zero in a specific way. \n",
    "\n",
    "More formally, if we take the Binomial distribution and examine its behavior when $n\\rightarrow\\infty$ and $p\\rightarrow 0$, we get the Poisson distribution.\n",
    "\n",
    "When we use this:\n",
    "\n",
    "- when the number of successes is is a non-negative integer,\n",
    "- when events occur independently,\n",
    "- when the rate at which events occur is constant,\n",
    "- when two events cannot occur at exactly the same instant, and\n",
    "- the probability of an event occurring in an interval is proportional to the length of the interval.\n",
    "\n",
    "Parameters of the distribution:\n",
    "\n",
    "- rate of event occurring $\\lambda$\n",
    "\n",
    "#### Poisson pmf\n",
    "\n",
    "$$f(x|\\lambda) = P(X=x) = \\frac{\\lambda^x e^{-\\lambda}}{x!} $$\n",
    "\n",
    "Where $x$ is the number of events that occur in an interval,\n",
    "\n",
    "and $\\lambda$ is the rate at which events occur.\n",
    "\n",
    "Let's say, for example, we are measuring visitors to our website. What is the probability mass function of the Poisson distribution for visitor counts given we have an average rate of 5 visitors per hour?"
   ]
  },
  {
   "cell_type": "code",
   "execution_count": 88,
   "metadata": {},
   "outputs": [
    {
     "data": {
      "text/plain": [
       "<Container object of 21 artists>"
      ]
     },
     "execution_count": 88,
     "metadata": {},
     "output_type": "execute_result"
    },
    {
     "data": {
      "image/png": "[encoded data removed]",
      "text/plain": [
       "<matplotlib.figure.Figure at 0x11f8c8a90>"
      ]
     },
     "metadata": {},
     "output_type": "display_data"
    }
   ],
   "source": [
    "num_visitors = 5\n",
    "visitor_dist = stats.poisson(num_visitors)\n",
    "\n",
    "possible_visitors = list(range(0, 21))\n",
    "\n",
    "plt.bar(possible_visitors, visitor_dist.pmf(possible_visitors))"
   ]
  },
  {
   "cell_type": "code",
   "execution_count": 89,
   "metadata": {},
   "outputs": [
    {
     "data": {
      "text/plain": [
       "[<matplotlib.lines.Line2D at 0x11fcbc630>]"
      ]
     },
     "execution_count": 89,
     "metadata": {},
     "output_type": "execute_result"
    },
    {
     "data": {
      "image/png": "[encoded data removed]",
      "text/plain": [
       "<matplotlib.figure.Figure at 0x11f676f28>"
      ]
     },
     "metadata": {},
     "output_type": "display_data"
    }
   ],
   "source": [
    "plt.figure(figsize=(12, 9))\n",
    "plt.step(possible_visitors, visitor_dist.cdf(possible_visitors))"
   ]
  },
  {
   "cell_type": "markdown",
   "metadata": {},
   "source": [
    "What if the rate was 25 instead?"
   ]
  },
  {
   "cell_type": "code",
   "execution_count": 90,
   "metadata": {
    "scrolled": true
   },
   "outputs": [
    {
     "data": {
      "text/plain": [
       "<Container object of 101 artists>"
      ]
     },
     "execution_count": 90,
     "metadata": {},
     "output_type": "execute_result"
    },
    {
     "data": {
      "image/png": "[encoded data removed]",
      "text/plain": [
       "<matplotlib.figure.Figure at 0x11fa56198>"
      ]
     },
     "metadata": {},
     "output_type": "display_data"
    }
   ],
   "source": [
    "num_visitors = 25\n",
    "visitor_dist = stats.poisson(num_visitors)\n",
    "\n",
    "possible_visitors = list(range(0, 101))  #your random variable\n",
    "\n",
    "plt.bar(possible_visitors, visitor_dist.pmf(possible_visitors))"
   ]
  },
  {
   "cell_type": "code",
   "execution_count": 91,
   "metadata": {},
   "outputs": [
    {
     "data": {
      "text/plain": [
       "[<matplotlib.lines.Line2D at 0x120068fd0>]"
      ]
     },
     "execution_count": 91,
     "metadata": {},
     "output_type": "execute_result"
    },
    {
     "data": {
      "image/png": "[encoded data removed]",
      "text/plain": [
       "<matplotlib.figure.Figure at 0x11fc18518>"
      ]
     },
     "metadata": {},
     "output_type": "display_data"
    }
   ],
   "source": [
    "plt.figure(figsize=(12, 9))\n",
    "plt.step(possible_visitors, visitor_dist.cdf(possible_visitors))"
   ]
  },
  {
   "cell_type": "markdown",
   "metadata": {},
   "source": [
    "**Check**: What do you notice or recognize about this?"
   ]
  },
  {
   "cell_type": "markdown",
   "metadata": {},
   "source": [
    "#### Poisson cdf\n",
    "\n",
    "The cumulative distribution is given by the formula:\n",
    "\n",
    "### $$ e^{-\\lambda} \\sum_{i=0}^{\\lfloor x\\rfloor} \\frac{\\lambda^i}{i!} $$\n",
    "\n",
    "Where the $\\lfloor x\\rfloor$ represents the greatest integer less than or equal to $x$."
   ]
  },
  {
   "cell_type": "code",
   "execution_count": 93,
   "metadata": {},
   "outputs": [
    {
     "data": {
      "text/plain": [
       "[<matplotlib.lines.Line2D at 0x120319320>]"
      ]
     },
     "execution_count": 93,
     "metadata": {},
     "output_type": "execute_result"
    },
    {
     "data": {
      "image/png": "[encoded data removed]",
      "text/plain": [
       "<matplotlib.figure.Figure at 0x12010c748>"
      ]
     },
     "metadata": {},
     "output_type": "display_data"
    }
   ],
   "source": [
    "plt.step(possible_visitors, visitor_dist.cdf(possible_visitors))"
   ]
  },
  {
   "cell_type": "markdown",
   "metadata": {},
   "source": [
    "## Conclusion\n",
    "\n",
    "By the end of this lesson, students should be able to:\n",
    "- Define distribution and random variable.\n",
    "- Describe the difference between discrete and continuous random variables.\n",
    "- Understand the difference between probability mass functions and cumulative density functions.\n",
    "- Give examples of the following distributions: Discrete Uniform, Bernoulli, Binomial, and Poisson.\n",
    "\n",
    "<details>\n",
    "<summary>What is a distribution?</summary>\n",
    "<li> A distribution is the set of all values of a variable and how frequently we observe them.\n",
    "</details>\n",
    "<br>\n",
    "<details>\n",
    "<summary>What is a random variable?</summary>\n",
    "<li> A random variable is a function that takes our sample space $\\mathcal{S}$ and maps it to the real number line.\n",
    "</details>\n",
    "<br>\n",
    "<details>\n",
    "<summary>What is the difference between a discrete and continuous random variable?</summary>\n",
    "<li> A discrete random variable has a countable sample space; a continuous random variable has a sample space that is not countable.\n",
    "</details>\n",
    "<br>\n",
    "<details>\n",
    "<summary>What is the difference between a probability mass function and a cumulative density function? </summary>\n",
    "<li> A probability mass function gives us the probability of that particular value of the random variable occurring. The cumulative mass function gives us the probability of that particular value and all values below it.\n",
    "</details>\n",
    "<br>\n",
    "<details>\n",
    "<summary>What is the Discrete Uniform distribution? </summary>\n",
    "<li> The discrete uniform distribution is appropriate for an experiment where all outcomes are equally likely.\n",
    "<li> Examples include:\n",
    "<ul>\n",
    "<li> the number of heads tossed with one coin (0 and 1 both occur 50% of the time)\n",
    "<li> the value rolled with one die (numbers 1 through 6 each occur exactly 1/6 of the time)\n",
    "</ul>\n",
    "</details>\n",
    "<br>\n",
    "<details>\n",
    "<summary>What is the Bernoulli distribution? </summary>\n",
    "<li> The Bernoulli distribution is appropriate for an experiment with two outcomes and a fixed probability of success $p$.\n",
    "<li> Examples include:\n",
    "<ul>\n",
    "<li> the number of heads tossed with one coin (0 and 1 both occur 50% of the time)\n",
    "<li> the number of correct answers a randomly guessing person gets on one multiple choice question with four choices (1 occurs 25% of the time; 0 occurs 75% of the time)\n",
    "</ul>\n",
    "</details>\n",
    "<br>\n",
    "<details>\n",
    "<summary>What is the Binomial distribution? </summary>\n",
    "<li> The Binomial distribution is appropriate for a sum of Bernoulli random variables, or where we have $n$ independent experiments with two outcomes and a fixed probability of success $p$.\n",
    "<li> Examples would include:\n",
    "<ul>\n",
    "<li> the number of heads tossed with $n$ coins\n",
    "<li> the number of correct answers a randomly guessing person gets on on $n$ multiple choice questions with four choices each\n",
    "</ul>\n",
    "</details>\n",
    "<br>\n",
    "<details>\n",
    "<summary>What is the Poisson distribution? </summary>\n",
    "<li> Whereas the Binomial distribution is appropriate for an experiment counting the number of successes out of a fixed number of trials, the Poisson distribution is appropriate for an experiment counting the number of successes in a fixed interval.\n",
    "<li> Getting into the theory, if we took a Binomial distribution, let the number of trials $n$ go to infinity, and the probability of success $p$ approach 0, then we get a Poisson distribution.\n",
    "<li> Examples would include:\n",
    "<ul>\n",
    "<li> the number of calls received at a call center in five minutes\n",
    "<li> the count of people who go to my website in one day\n",
    "</ul>\n",
    "</details>\n",
    "\n"
   ]
  }
 ],
 "metadata": {
  "kernelspec": {
   "display_name": "Python 3",
   "language": "python",
   "name": "python3"
  },
  "language_info": {
   "codemirror_mode": {
    "name": "ipython",
    "version": 3
   },
   "file_extension": ".py",
   "mimetype": "text/x-python",
   "name": "python",
   "nbconvert_exporter": "python",
   "pygments_lexer": "ipython3",
   "version": "3.6.1"
  }
 },
 "nbformat": 4,
 "nbformat_minor": 1
}
