{
 "cells": [
  {
   "cell_type": "code",
   "execution_count": 36,
   "metadata": {},
   "outputs": [
    {
     "name": "stdout",
     "output_type": "stream",
     "text": [
      "Functions Exercise Order :  ['Patrick', 'rock paper scissors for it', 'Brad']\n"
     ]
    }
   ],
   "source": [
    "import random\n",
    "\n",
    "programmers = ['Brad', 'Patrick', 'rock paper scissors for it']\n",
    "random.shuffle(programmers)\n",
    "print(\"Functions Exercise Order : \",  programmers)\n",
    "\n"
   ]
  },
  {
   "cell_type": "markdown",
   "metadata": {},
   "source": [
    "##Functions##"
   ]
  },
  {
   "cell_type": "markdown",
   "metadata": {},
   "source": [
    "1) Write a function called area_triangle() that:\n",
    "        - takes the height and width of a triangle \n",
    "        - and returns the area."
   ]
  },
  {
   "cell_type": "code",
   "execution_count": 20,
   "metadata": {
    "collapsed": true
   },
   "outputs": [],
   "source": [
    "height = 5\n",
    "width = 3"
   ]
  },
  {
   "cell_type": "code",
   "execution_count": 21,
   "metadata": {
    "collapsed": true
   },
   "outputs": [],
   "source": [
    "def area_triangle(height,width):\n",
    "    return (1/2) * height * width # Formula for the area of a triangle: height * width * (1/2)"
   ]
  },
  {
   "cell_type": "code",
   "execution_count": 22,
   "metadata": {},
   "outputs": [
    {
     "name": "stdout",
     "output_type": "stream",
     "text": [
      "7.5\n"
     ]
    }
   ],
   "source": [
    "print(area_triangle(height, width))"
   ]
  },
  {
   "cell_type": "markdown",
   "metadata": {},
   "source": [
    "2) Write a function called string_list_fun() that:\n",
    "        - takes a string as an argument and\n",
    "        - returns a tuple with the string converted to a list and the count of characters."
   ]
  },
  {
   "cell_type": "code",
   "execution_count": 49,
   "metadata": {},
   "outputs": [],
   "source": [
    "def string_list_fun(some_string):\n",
    "    some_tuple = tuple(some_string)\n",
    "    count_tuple = len(some_tuple)\n",
    "    return(list(some_tuple), count_tuple)"
   ]
  },
  {
   "cell_type": "code",
   "execution_count": 50,
   "metadata": {},
   "outputs": [
    {
     "data": {
      "text/plain": [
       "(['h', 'e', 'l', 'l', 'o'], 5)"
      ]
     },
     "execution_count": 50,
     "metadata": {},
     "output_type": "execute_result"
    }
   ],
   "source": [
    "string_list_fun(\"hello\")"
   ]
  },
  {
   "cell_type": "code",
   "execution_count": 13,
   "metadata": {
    "collapsed": true
   },
   "outputs": [],
   "source": [
    "def string_list_fun(string):\n",
    "    new_list = [] # Create empty list\n",
    "    for i in string:\n",
    "        new_list.append(i) # Put each character from string in list.\n",
    "    return (new_list, len(string))  # Return tuple"
   ]
  },
  {
   "cell_type": "code",
   "execution_count": 63,
   "metadata": {},
   "outputs": [
    {
     "data": {
      "text/plain": [
       "(['y', 'a', 'y', ' ', 'd', 'a', 't', 'a', '!'], 9)"
      ]
     },
     "execution_count": 63,
     "metadata": {},
     "output_type": "execute_result"
    }
   ],
   "source": [
    "string_list_fun(\"yay data!\") "
   ]
  },
  {
   "cell_type": "markdown",
   "metadata": {},
   "source": [
    "3) Write a function called math_rocks() that:\n",
    "        - takes two integers passed as strings and\n",
    "        - returns the sum, difference, and product as a tuple (all values as integers)."
   ]
  },
  {
   "cell_type": "code",
   "execution_count": 51,
   "metadata": {
    "collapsed": true
   },
   "outputs": [],
   "source": [
    "def math_rocks(num1, num2):\n",
    "    num1 = int(num1)\n",
    "    num2 = int(num2)\n",
    "    sum_nums = num1 + num2\n",
    "    dif_nums = num1 - num2\n",
    "    prod_nums = num1*num2\n",
    "    return (sum_nums, dif_nums, prod_nums)\n",
    "    "
   ]
  },
  {
   "cell_type": "code",
   "execution_count": 52,
   "metadata": {},
   "outputs": [
    {
     "data": {
      "text/plain": [
       "(3, -1, 2)"
      ]
     },
     "execution_count": 52,
     "metadata": {},
     "output_type": "execute_result"
    }
   ],
   "source": [
    "math_rocks('1', '2')"
   ]
  },
  {
   "cell_type": "code",
   "execution_count": 34,
   "metadata": {},
   "outputs": [],
   "source": [
    "def math_rocks(int1,int2):\n",
    "    int1 = int(int1)\n",
    "    int2 = int(int2)\n",
    "    return (int1 + int2, int1 - int2, int1 * int2)"
   ]
  },
  {
   "cell_type": "code",
   "execution_count": 54,
   "metadata": {},
   "outputs": [
    {
     "data": {
      "text/plain": [
       "True"
      ]
     },
     "execution_count": 54,
     "metadata": {},
     "output_type": "execute_result"
    }
   ],
   "source": [
    "math_rocks('5','2') == (7,3,10)"
   ]
  },
  {
   "cell_type": "code",
   "execution_count": null,
   "metadata": {
    "collapsed": true
   },
   "outputs": [],
   "source": []
  }
 ],
 "metadata": {
  "kernelspec": {
   "display_name": "Python 3",
   "language": "python",
   "name": "python3"
  },
  "language_info": {
   "codemirror_mode": {
    "name": "ipython",
    "version": 3
   },
   "file_extension": ".py",
   "mimetype": "text/x-python",
   "name": "python",
   "nbconvert_exporter": "python",
   "pygments_lexer": "ipython3",
   "version": "3.6.1"
  }
 },
 "nbformat": 4,
 "nbformat_minor": 2
}
